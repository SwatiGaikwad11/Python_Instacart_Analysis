{
 "cells": [
  {
   "cell_type": "markdown",
   "id": "e0adb720",
   "metadata": {},
   "source": [
    "# Exercise 4.10 - Part 1"
   ]
  },
  {
   "cell_type": "markdown",
   "id": "01b346d2",
   "metadata": {},
   "source": [
    "## Contents:\n",
    "\n",
    "1. Importing libraries\n",
    "2. Import Data set\n",
    "3. Data Security\n",
    "4. Deriving Regional Segmentation\n",
    "5. Creating exclusion flag for low-activity customers\n",
    "6. Customer Profiling & Profile Distribution Visualizations\n",
    "7. Profile Aggregation\n",
    "8. Visualizations of profiles by Region & Department\n",
    "9. Export Data set\n",
    "\n"
   ]
  },
  {
   "cell_type": "markdown",
   "id": "47bc670c",
   "metadata": {},
   "source": [
    "## 1. Import libraries"
   ]
  },
  {
   "cell_type": "code",
   "execution_count": 1,
   "id": "cd8c83e1",
   "metadata": {},
   "outputs": [],
   "source": [
    "# Import libraries\n",
    "import pandas as pd\n",
    "import numpy as np\n",
    "import os\n",
    "import matplotlib.pyplot as plt\n",
    "import seaborn as sns\n",
    "import scipy"
   ]
  },
  {
   "cell_type": "markdown",
   "id": "57237a4a",
   "metadata": {},
   "source": [
    "## 2. Import Data set"
   ]
  },
  {
   "cell_type": "markdown",
   "id": "e638fcc8",
   "metadata": {},
   "source": [
    "Task 1. Import the data set you exported in Exercise 4.9 into a new Jupyter notebook. This should be the merged version of your data that contains the new customers column."
   ]
  },
  {
   "cell_type": "code",
   "execution_count": 2,
   "id": "9b0124b8",
   "metadata": {},
   "outputs": [],
   "source": [
    "# Create path to import 'orders_products_customers.pkl' dataset\n",
    "path=r'C:\\Users\\swati\\Instacart Basket Analysis'"
   ]
  },
  {
   "cell_type": "code",
   "execution_count": 3,
   "id": "4cd8ef97",
   "metadata": {},
   "outputs": [],
   "source": [
    "# Import complete dataframe\n",
    "df_all_merged = pd.read_pickle(os.path.join(path, '02 Data','Prepared Data', 'orders_products_customers.pkl'))"
   ]
  },
  {
   "cell_type": "code",
   "execution_count": 4,
   "id": "5f604961",
   "metadata": {},
   "outputs": [],
   "source": [
    "# Import department dict\n",
    "df_dept_dict = pd.read_csv(os.path.join(path, '02 Data', 'Prepared Data', 'departments_wrangled.csv'), index_col = False)"
   ]
  },
  {
   "cell_type": "markdown",
   "id": "cc7b44e0",
   "metadata": {},
   "source": [
    "## 3. Data Security"
   ]
  },
  {
   "cell_type": "markdown",
   "id": "c5a6aa01",
   "metadata": {},
   "source": [
    "Task 2. Consider any security implications that might exist for this new data. You’ll need to address any PII data in the data before continuing your analysis."
   ]
  },
  {
   "cell_type": "code",
   "execution_count": 5,
   "id": "077a2692",
   "metadata": {
    "scrolled": true
   },
   "outputs": [
    {
     "data": {
      "text/plain": [
       "Index(['order_id', 'user_id', 'order_number', 'orders_day_of_week',\n",
       "       'order_hour_of_day', 'days_since_prior_order', 'product_id',\n",
       "       'add_to_cart_order', 'reordered', 'product_name', 'aisle_id',\n",
       "       'department_id', 'prices', '_merge', 'price_range_loc', 'busiest_day',\n",
       "       'busiest_days', 'busiest_period_of_day', 'max_order', 'loyalty_flag',\n",
       "       'avg_price', 'spending_flag', 'median_freq', 'order_freq_flag',\n",
       "       'gender', 'state', 'age', 'date_joined', 'number_of_dependants',\n",
       "       'family_status', 'income'],\n",
       "      dtype='object')"
      ]
     },
     "execution_count": 5,
     "metadata": {},
     "output_type": "execute_result"
    }
   ],
   "source": [
    "# Check for the list of columns\n",
    "df_all_merged.columns"
   ]
  },
  {
   "cell_type": "code",
   "execution_count": 6,
   "id": "cdb3b4a8",
   "metadata": {},
   "outputs": [
    {
     "data": {
      "text/plain": [
       "(32404859, 31)"
      ]
     },
     "execution_count": 6,
     "metadata": {},
     "output_type": "execute_result"
    }
   ],
   "source": [
    "df_all_merged.shape"
   ]
  },
  {
   "cell_type": "markdown",
   "id": "9fa1d31a",
   "metadata": {},
   "source": [
    "##### There is no column present in the dataframe which contains any personally identifiable information(PII)"
   ]
  },
  {
   "cell_type": "markdown",
   "id": "91f048d0",
   "metadata": {},
   "source": [
    "## 4. Deriving Regional Segmentation"
   ]
  },
  {
   "cell_type": "markdown",
   "id": "d0aeba68",
   "metadata": {},
   "source": [
    "Task 3. The Instacart officers are interested in comparing customer behavior in different geographic areas. Create a regional segmentation of the data. You’ll need to create a “Region” column based on the “State” column from your customers data set.\n",
    "\n",
    "3a.Use the region information in this Wikipedia article to create your column (you only need to create regions, not divisions)."
   ]
  },
  {
   "cell_type": "code",
   "execution_count": 7,
   "id": "3338cbde",
   "metadata": {},
   "outputs": [],
   "source": [
    "# Create for-loop to check 'Northeast','Midwest','West' and 'South' regions of U.S.\n",
    "\n",
    "region = []\n",
    "for value in df_all_merged['state']:\n",
    "    if (value == 'Maine') or (value == 'New Hampshire') or (value == 'Vermont') or (value == 'Massachusetts') or (value == 'Rhode Island') or (value == 'Connecticut') or (value == 'New York') or (value == 'Pennsylvania') or (value =='New Jersey'):\n",
    "        region.append('Northeast')\n",
    "    elif (value == 'Wisconsin') or (value == 'Michigan') or (value == 'Illinois') or (value == 'Indiana') or (value == 'Ohio') or (value == 'North Dakota') or (value == 'South Dakota') or (value == 'Nebraska') or (value == 'Kansas') or (value == 'Minnesota') or (value == 'Iowa') or (value == 'Missouri'):\n",
    "        region.append('Midwest')\n",
    "    elif (value == 'Idaho') or (value == 'Montana') or (value == 'Wyoming') or (value == 'Nevada') or (value == 'Utah') or (value == 'Colorado') or (value == 'Arizona') or (value == 'New Mexico') or (value == 'Alaska') or (value == 'Washington') or (value == 'Oregon') or (value == 'California') or (value == 'Hawaii'):\n",
    "        region.append('West')\n",
    "    else:\n",
    "        region.append('South')"
   ]
  },
  {
   "cell_type": "code",
   "execution_count": 8,
   "id": "d2d2ae8c",
   "metadata": {},
   "outputs": [],
   "source": [
    "# Create 'region' column based on 'state'column\n",
    "\n",
    "df_all_merged['region'] = region"
   ]
  },
  {
   "cell_type": "code",
   "execution_count": 9,
   "id": "3ea7c18e",
   "metadata": {},
   "outputs": [
    {
     "data": {
      "text/plain": [
       "South        10791885\n",
       "West          8292913\n",
       "Midwest       7597325\n",
       "Northeast     5722736\n",
       "Name: region, dtype: int64"
      ]
     },
     "execution_count": 9,
     "metadata": {},
     "output_type": "execute_result"
    }
   ],
   "source": [
    "# Check the frequency of 'region'\n",
    "df_all_merged['region'].value_counts(dropna = False)"
   ]
  },
  {
   "cell_type": "code",
   "execution_count": 10,
   "id": "b12ecd97",
   "metadata": {},
   "outputs": [
    {
     "data": {
      "text/html": [
       "<div>\n",
       "<style scoped>\n",
       "    .dataframe tbody tr th:only-of-type {\n",
       "        vertical-align: middle;\n",
       "    }\n",
       "\n",
       "    .dataframe tbody tr th {\n",
       "        vertical-align: top;\n",
       "    }\n",
       "\n",
       "    .dataframe thead th {\n",
       "        text-align: right;\n",
       "    }\n",
       "</style>\n",
       "<table border=\"1\" class=\"dataframe\">\n",
       "  <thead>\n",
       "    <tr style=\"text-align: right;\">\n",
       "      <th></th>\n",
       "      <th>order_id</th>\n",
       "      <th>user_id</th>\n",
       "      <th>order_number</th>\n",
       "      <th>orders_day_of_week</th>\n",
       "      <th>order_hour_of_day</th>\n",
       "      <th>days_since_prior_order</th>\n",
       "      <th>product_id</th>\n",
       "      <th>add_to_cart_order</th>\n",
       "      <th>reordered</th>\n",
       "      <th>product_name</th>\n",
       "      <th>...</th>\n",
       "      <th>median_freq</th>\n",
       "      <th>order_freq_flag</th>\n",
       "      <th>gender</th>\n",
       "      <th>state</th>\n",
       "      <th>age</th>\n",
       "      <th>date_joined</th>\n",
       "      <th>number_of_dependants</th>\n",
       "      <th>family_status</th>\n",
       "      <th>income</th>\n",
       "      <th>region</th>\n",
       "    </tr>\n",
       "  </thead>\n",
       "  <tbody>\n",
       "  </tbody>\n",
       "</table>\n",
       "<p>0 rows × 32 columns</p>\n",
       "</div>"
      ],
      "text/plain": [
       "Empty DataFrame\n",
       "Columns: [order_id, user_id, order_number, orders_day_of_week, order_hour_of_day, days_since_prior_order, product_id, add_to_cart_order, reordered, product_name, aisle_id, department_id, prices, _merge, price_range_loc, busiest_day, busiest_days, busiest_period_of_day, max_order, loyalty_flag, avg_price, spending_flag, median_freq, order_freq_flag, gender, state, age, date_joined, number_of_dependants, family_status, income, region]\n",
       "Index: []\n",
       "\n",
       "[0 rows x 32 columns]"
      ]
     },
     "execution_count": 10,
     "metadata": {},
     "output_type": "execute_result"
    }
   ],
   "source": [
    "# Check for missing value in newly derived column\n",
    "df_all_merged[df_all_merged['region'].isnull()]"
   ]
  },
  {
   "cell_type": "markdown",
   "id": "a1ea98b1",
   "metadata": {},
   "source": [
    "Task 3b. Determine whether there’s a difference in spending habits between the different U.S. regions. (Hint: You can do this by crossing the variable you just created with the spending flag.)"
   ]
  },
  {
   "cell_type": "code",
   "execution_count": 11,
   "id": "07259ce6",
   "metadata": {},
   "outputs": [],
   "source": [
    "# Data check after creating 'region'column using function 'crosstab'\n",
    "region_spending = pd.crosstab(df_all_merged['region'], df_all_merged['spending_flag'], dropna = False)"
   ]
  },
  {
   "cell_type": "code",
   "execution_count": 12,
   "id": "7f7ad7fd",
   "metadata": {},
   "outputs": [],
   "source": [
    "# Copy created table to clipboard\n",
    "region_spending.to_clipboard()"
   ]
  },
  {
   "cell_type": "code",
   "execution_count": 13,
   "id": "314c7504",
   "metadata": {},
   "outputs": [
    {
     "data": {
      "text/html": [
       "<div>\n",
       "<style scoped>\n",
       "    .dataframe tbody tr th:only-of-type {\n",
       "        vertical-align: middle;\n",
       "    }\n",
       "\n",
       "    .dataframe tbody tr th {\n",
       "        vertical-align: top;\n",
       "    }\n",
       "\n",
       "    .dataframe thead th {\n",
       "        text-align: right;\n",
       "    }\n",
       "</style>\n",
       "<table border=\"1\" class=\"dataframe\">\n",
       "  <thead>\n",
       "    <tr style=\"text-align: right;\">\n",
       "      <th>spending_flag</th>\n",
       "      <th>High Spender</th>\n",
       "      <th>Low Spender</th>\n",
       "    </tr>\n",
       "    <tr>\n",
       "      <th>region</th>\n",
       "      <th></th>\n",
       "      <th></th>\n",
       "    </tr>\n",
       "  </thead>\n",
       "  <tbody>\n",
       "    <tr>\n",
       "      <th>Midwest</th>\n",
       "      <td>155975</td>\n",
       "      <td>7441350</td>\n",
       "    </tr>\n",
       "    <tr>\n",
       "      <th>Northeast</th>\n",
       "      <td>108225</td>\n",
       "      <td>5614511</td>\n",
       "    </tr>\n",
       "    <tr>\n",
       "      <th>South</th>\n",
       "      <td>209691</td>\n",
       "      <td>10582194</td>\n",
       "    </tr>\n",
       "    <tr>\n",
       "      <th>West</th>\n",
       "      <td>160354</td>\n",
       "      <td>8132559</td>\n",
       "    </tr>\n",
       "  </tbody>\n",
       "</table>\n",
       "</div>"
      ],
      "text/plain": [
       "spending_flag  High Spender  Low Spender\n",
       "region                                  \n",
       "Midwest              155975      7441350\n",
       "Northeast            108225      5614511\n",
       "South                209691     10582194\n",
       "West                 160354      8132559"
      ]
     },
     "execution_count": 13,
     "metadata": {},
     "output_type": "execute_result"
    }
   ],
   "source": [
    "# View the output\n",
    "region_spending"
   ]
  },
  {
   "cell_type": "code",
   "execution_count": 14,
   "id": "d57bcdf3",
   "metadata": {},
   "outputs": [
    {
     "data": {
      "image/png": "[encoded data removed]",
      "text/plain": [
       "<Figure size 640x480 with 1 Axes>"
      ]
     },
     "metadata": {},
     "output_type": "display_data"
    }
   ],
   "source": [
    "spending_pie = df_all_merged['spending_flag'].value_counts().plot.pie(title ='Spending Habits', label = '', autopct=('%1.f%%'))"
   ]
  },
  {
   "cell_type": "code",
   "execution_count": 15,
   "id": "611c759d",
   "metadata": {},
   "outputs": [],
   "source": [
    "# exporting pie chart\n",
    "spending_pie.figure.savefig(os.path.join(path, '04 Analysis', 'Visualizations', 'Spending_habit_pie.png'))"
   ]
  },
  {
   "cell_type": "code",
   "execution_count": 16,
   "id": "50f17aa6",
   "metadata": {},
   "outputs": [
    {
     "data": {
      "image/png": "[encoded data removed]",
      "text/plain": [
       "<Figure size 640x480 with 1 Axes>"
      ]
     },
     "metadata": {},
     "output_type": "display_data"
    }
   ],
   "source": [
    "region_bar = region_spending.plot.bar(color = sns.color_palette('Blues', 2),title = 'Spending by Region')"
   ]
  },
  {
   "cell_type": "code",
   "execution_count": 17,
   "id": "602bf5ed",
   "metadata": {},
   "outputs": [],
   "source": [
    "# Export bar graph\n",
    "region_bar.figure.savefig(os.path.join(path, '04 Analysis', 'Visualizations', 'region_spending_bar.png'))"
   ]
  },
  {
   "cell_type": "markdown",
   "id": "e6db25fb",
   "metadata": {},
   "source": [
    "## 5. Creating exclusion flag for low-activity customers"
   ]
  },
  {
   "cell_type": "markdown",
   "id": "408d796d",
   "metadata": {},
   "source": [
    "Task 4: The Instacart CFO isn’t interested in customers who don’t generate much revenue for the app. Create an exclusion flag for low-activity customers (customers with less than 5 orders) and exclude them from the data. Make sure you export this sample."
   ]
  },
  {
   "cell_type": "code",
   "execution_count": 18,
   "id": "99fccc97",
   "metadata": {},
   "outputs": [],
   "source": [
    "# Create 'low-activity' flag\n",
    "df_all_merged.loc[df_all_merged['max_order'] < 5, 'activity_flag'] = 'low activity'"
   ]
  },
  {
   "cell_type": "code",
   "execution_count": 19,
   "id": "5c35a9bd",
   "metadata": {},
   "outputs": [],
   "source": [
    "# Create 'High-activity' flag\n",
    "df_all_merged.loc[df_all_merged['max_order'] >=5, 'activity_flag'] = 'High activity'"
   ]
  },
  {
   "cell_type": "code",
   "execution_count": 20,
   "id": "445de749",
   "metadata": {},
   "outputs": [
    {
     "data": {
      "text/plain": [
       "High activity    30964564\n",
       "low activity      1440295\n",
       "Name: activity_flag, dtype: int64"
      ]
     },
     "execution_count": 20,
     "metadata": {},
     "output_type": "execute_result"
    }
   ],
   "source": [
    "# Check frequency of activity flag\n",
    "df_all_merged['activity_flag'].value_counts(dropna = False)"
   ]
  },
  {
   "cell_type": "code",
   "execution_count": 21,
   "id": "efb51bb8",
   "metadata": {},
   "outputs": [],
   "source": [
    "# creating the subset of high acitivity customers\n",
    "df_high_active_customers = df_all_merged.loc[df_all_merged['activity_flag'] == 'High activity']"
   ]
  },
  {
   "cell_type": "code",
   "execution_count": 22,
   "id": "819b0086",
   "metadata": {},
   "outputs": [
    {
     "data": {
      "text/plain": [
       "(30964564, 33)"
      ]
     },
     "execution_count": 22,
     "metadata": {},
     "output_type": "execute_result"
    }
   ],
   "source": [
    "#Check the size of subset\n",
    "df_high_active_customers.shape"
   ]
  },
  {
   "cell_type": "code",
   "execution_count": 23,
   "id": "e21116ea",
   "metadata": {},
   "outputs": [],
   "source": [
    "#Exporting sample dataset\n",
    "df_high_active_customers.to_pickle(os.path.join(path, '02 Data', 'Prepared Data', 'high_active_customers_sample.pkl'))"
   ]
  },
  {
   "cell_type": "markdown",
   "id": "603b1daf",
   "metadata": {},
   "source": [
    "## 6. Customer Profiling & Profile Distribution Visualizations"
   ]
  },
  {
   "cell_type": "markdown",
   "id": "81a66c29",
   "metadata": {},
   "source": [
    "Task 5: The marketing and business strategy units at Instacart want to create more-relevant marketing strategies for different products and are, thus, curious about customer profiling in their database. Create a profiling variable based on age, income, certain goods in the “department_id” column, and number of dependents. You might also use the “orders_day_of_the_week” and “order_hour_of_day” columns if you can think of a way they would impact customer profiles.                                      \n",
    "(Hint: As an example, try thinking of what characteristics would lead you to the profile “Single adult” or “Young parent.”)\n",
    "\n",
    "Task 6: Create an appropriate visualization to show the distribution of profiles."
   ]
  },
  {
   "cell_type": "code",
   "execution_count": 24,
   "id": "b95dbc9d",
   "metadata": {},
   "outputs": [
    {
     "data": {
      "text/html": [
       "<div>\n",
       "<style scoped>\n",
       "    .dataframe tbody tr th:only-of-type {\n",
       "        vertical-align: middle;\n",
       "    }\n",
       "\n",
       "    .dataframe tbody tr th {\n",
       "        vertical-align: top;\n",
       "    }\n",
       "\n",
       "    .dataframe thead th {\n",
       "        text-align: right;\n",
       "    }\n",
       "</style>\n",
       "<table border=\"1\" class=\"dataframe\">\n",
       "  <thead>\n",
       "    <tr style=\"text-align: right;\">\n",
       "      <th></th>\n",
       "      <th>age</th>\n",
       "      <th>income</th>\n",
       "      <th>department_id</th>\n",
       "      <th>number_of_dependants</th>\n",
       "    </tr>\n",
       "  </thead>\n",
       "  <tbody>\n",
       "    <tr>\n",
       "      <th>count</th>\n",
       "      <td>3.240486e+07</td>\n",
       "      <td>3.240486e+07</td>\n",
       "      <td>3.240486e+07</td>\n",
       "      <td>3.240486e+07</td>\n",
       "    </tr>\n",
       "    <tr>\n",
       "      <th>mean</th>\n",
       "      <td>4.946527e+01</td>\n",
       "      <td>9.943773e+04</td>\n",
       "      <td>9.919792e+00</td>\n",
       "      <td>1.501896e+00</td>\n",
       "    </tr>\n",
       "    <tr>\n",
       "      <th>std</th>\n",
       "      <td>1.848558e+01</td>\n",
       "      <td>4.305727e+04</td>\n",
       "      <td>6.281485e+00</td>\n",
       "      <td>1.118865e+00</td>\n",
       "    </tr>\n",
       "    <tr>\n",
       "      <th>min</th>\n",
       "      <td>1.800000e+01</td>\n",
       "      <td>2.590300e+04</td>\n",
       "      <td>1.000000e+00</td>\n",
       "      <td>0.000000e+00</td>\n",
       "    </tr>\n",
       "    <tr>\n",
       "      <th>25%</th>\n",
       "      <td>3.300000e+01</td>\n",
       "      <td>6.700400e+04</td>\n",
       "      <td>4.000000e+00</td>\n",
       "      <td>1.000000e+00</td>\n",
       "    </tr>\n",
       "    <tr>\n",
       "      <th>50%</th>\n",
       "      <td>4.900000e+01</td>\n",
       "      <td>9.661800e+04</td>\n",
       "      <td>9.000000e+00</td>\n",
       "      <td>2.000000e+00</td>\n",
       "    </tr>\n",
       "    <tr>\n",
       "      <th>75%</th>\n",
       "      <td>6.500000e+01</td>\n",
       "      <td>1.279120e+05</td>\n",
       "      <td>1.600000e+01</td>\n",
       "      <td>3.000000e+00</td>\n",
       "    </tr>\n",
       "    <tr>\n",
       "      <th>max</th>\n",
       "      <td>8.100000e+01</td>\n",
       "      <td>5.939010e+05</td>\n",
       "      <td>2.100000e+01</td>\n",
       "      <td>3.000000e+00</td>\n",
       "    </tr>\n",
       "  </tbody>\n",
       "</table>\n",
       "</div>"
      ],
      "text/plain": [
       "                age        income  department_id  number_of_dependants\n",
       "count  3.240486e+07  3.240486e+07   3.240486e+07          3.240486e+07\n",
       "mean   4.946527e+01  9.943773e+04   9.919792e+00          1.501896e+00\n",
       "std    1.848558e+01  4.305727e+04   6.281485e+00          1.118865e+00\n",
       "min    1.800000e+01  2.590300e+04   1.000000e+00          0.000000e+00\n",
       "25%    3.300000e+01  6.700400e+04   4.000000e+00          1.000000e+00\n",
       "50%    4.900000e+01  9.661800e+04   9.000000e+00          2.000000e+00\n",
       "75%    6.500000e+01  1.279120e+05   1.600000e+01          3.000000e+00\n",
       "max    8.100000e+01  5.939010e+05   2.100000e+01          3.000000e+00"
      ]
     },
     "execution_count": 24,
     "metadata": {},
     "output_type": "execute_result"
    }
   ],
   "source": [
    "# Check descriptive statistics on age, income,department_id , and number of dependents. \n",
    "df_all_merged[['age','income','department_id','number_of_dependants']].describe()"
   ]
  },
  {
   "cell_type": "code",
   "execution_count": 25,
   "id": "f82f73c5",
   "metadata": {},
   "outputs": [
    {
     "data": {
      "text/plain": [
       "41-65       12646712\n",
       "18-40       11670046\n",
       "Above 65     8088101\n",
       "Name: age_profile, dtype: int64"
      ]
     },
     "execution_count": 25,
     "metadata": {},
     "output_type": "execute_result"
    }
   ],
   "source": [
    "# Create age flags\n",
    "df_all_merged.loc[(df_all_merged['age'] <= 40), 'age_profile'] = '18-40'\n",
    "df_all_merged.loc[(df_all_merged['age'] > 40) & (df_all_merged['age'] <= 65), 'age_profile'] = '41-65'\n",
    "df_all_merged.loc[(df_all_merged['age'] > 65), 'age_profile'] = 'Above 65'\n",
    "df_all_merged['age_profile'].value_counts(dropna = False)"
   ]
  },
  {
   "cell_type": "code",
   "execution_count": 26,
   "id": "13ac957b",
   "metadata": {},
   "outputs": [
    {
     "data": {
      "image/png": "[encoded data removed]",
      "text/plain": [
       "<Figure size 640x480 with 1 Axes>"
      ]
     },
     "metadata": {},
     "output_type": "display_data"
    }
   ],
   "source": [
    "#Create bar chart of 'age profile'\n",
    "age_profile_bar = df_all_merged['age_profile'].value_counts().plot.bar(title ='Age Profile')"
   ]
  },
  {
   "cell_type": "code",
   "execution_count": 27,
   "id": "faced386",
   "metadata": {},
   "outputs": [
    {
     "data": {
      "image/png": "[encoded data removed]",
      "text/plain": [
       "<Figure size 640x480 with 1 Axes>"
      ]
     },
     "metadata": {},
     "output_type": "display_data"
    }
   ],
   "source": [
    "# Create pie chart \n",
    "age_profile_pie = df_all_merged['age_profile'].value_counts().plot.pie(title ='Age Profile', label = '', colors = sns.color_palette('Blues', 3), autopct=('%1.f%%'))"
   ]
  },
  {
   "cell_type": "code",
   "execution_count": 28,
   "id": "d8a31750",
   "metadata": {},
   "outputs": [],
   "source": [
    "# Export bar chart\n",
    "age_profile_bar.figure.savefig(os.path.join(path, '04 Analysis', 'Visualizations', 'Age_Profile_bar.png'))"
   ]
  },
  {
   "cell_type": "code",
   "execution_count": 29,
   "id": "a0740ca5",
   "metadata": {},
   "outputs": [],
   "source": [
    "# Export pie chart\n",
    "age_profile_pie.figure.savefig(os.path.join(path, '04 Analysis', 'Visualizations', 'Age_Profile_pie.png'))"
   ]
  },
  {
   "cell_type": "code",
   "execution_count": 30,
   "id": "586bb232",
   "metadata": {},
   "outputs": [
    {
     "data": {
      "text/plain": [
       "50k - 150k    24759936\n",
       "150k+          4050840\n",
       "<=50k          3594083\n",
       "Name: income_profile, dtype: int64"
      ]
     },
     "execution_count": 30,
     "metadata": {},
     "output_type": "execute_result"
    }
   ],
   "source": [
    "# Create 'income-profile' flag\n",
    "df_all_merged.loc[(df_all_merged['income'] <= 50000), 'income_profile'] = '<=50k'\n",
    "df_all_merged.loc[(df_all_merged['income'] > 50000) & (df_all_merged['income'] <= 150000), 'income_profile'] = '50k - 150k'\n",
    "df_all_merged.loc[(df_all_merged['income'] > 150000), 'income_profile'] = '150k+'\n",
    "df_all_merged['income_profile'].value_counts(dropna = False)"
   ]
  },
  {
   "cell_type": "code",
   "execution_count": 31,
   "id": "8b97d2a0",
   "metadata": {},
   "outputs": [
    {
     "data": {
      "image/png": "[encoded data removed]",
      "text/plain": [
       "<Figure size 640x480 with 1 Axes>"
      ]
     },
     "metadata": {},
     "output_type": "display_data"
    }
   ],
   "source": [
    "# Create pie chart \n",
    "income_profile_pie = df_all_merged['income_profile'].value_counts().plot.pie(title ='Income Profile', label = '', colors = sns.color_palette('Blues', 3), autopct=('%1.f%%'))"
   ]
  },
  {
   "cell_type": "markdown",
   "id": "43390281",
   "metadata": {},
   "source": [
    "#### Majority customers of Instacart earn between 50k to 150k"
   ]
  },
  {
   "cell_type": "code",
   "execution_count": 32,
   "id": "02625f1d",
   "metadata": {},
   "outputs": [],
   "source": [
    "# Export pie chart\n",
    "income_profile_pie.figure.savefig(os.path.join(path, '04 Analysis', 'Visualizations', 'Income_Profile_pie.png'))"
   ]
  },
  {
   "cell_type": "code",
   "execution_count": 33,
   "id": "80de25fe",
   "metadata": {},
   "outputs": [
    {
     "data": {
      "text/plain": [
       "Family          24307356\n",
       "Single Adult     8097503\n",
       "Name: family_profile, dtype: int64"
      ]
     },
     "execution_count": 33,
     "metadata": {},
     "output_type": "execute_result"
    }
   ],
   "source": [
    "# Create profile based on number of dependants\n",
    "df_all_merged.loc[(df_all_merged['number_of_dependants'] == 0), 'family_profile'] = 'Single Adult'\n",
    "df_all_merged.loc[(df_all_merged['number_of_dependants'] != 0), 'family_profile'] = 'Family'\n",
    "df_all_merged['family_profile'].value_counts(dropna = False)"
   ]
  },
  {
   "cell_type": "code",
   "execution_count": 34,
   "id": "ea082896",
   "metadata": {},
   "outputs": [
    {
     "data": {
      "image/png": "[encoded data removed]",
      "text/plain": [
       "<Figure size 640x480 with 1 Axes>"
      ]
     },
     "metadata": {},
     "output_type": "display_data"
    }
   ],
   "source": [
    "# Create Famiy profile chart \n",
    "family_profile_pie = df_all_merged['family_profile'].value_counts().plot.pie(title ='Family Profile', label = '', colors = sns.color_palette('Blues', 3), autopct=('%1.f%%'))"
   ]
  },
  {
   "cell_type": "code",
   "execution_count": 35,
   "id": "e2345abf",
   "metadata": {},
   "outputs": [],
   "source": [
    "# Export pie chart\n",
    "family_profile_pie.figure.savefig(os.path.join(path, '04 Analysis', 'Visualizations', 'Family_Profile_pie.png'))"
   ]
  },
  {
   "cell_type": "code",
   "execution_count": 36,
   "id": "4f6262a2",
   "metadata": {},
   "outputs": [
    {
     "data": {
      "text/plain": [
       "0    6204182\n",
       "1    5660230\n",
       "2    4213830\n",
       "3    3840534\n",
       "4    3783802\n",
       "5    4205791\n",
       "6    4496490\n",
       "Name: orders_day_of_week, dtype: int64"
      ]
     },
     "execution_count": 36,
     "metadata": {},
     "output_type": "execute_result"
    }
   ],
   "source": [
    "# Create profile of orders using Days of week column\n",
    "df_all_merged['orders_day_of_week'].value_counts(dropna = False).sort_index()"
   ]
  },
  {
   "cell_type": "code",
   "execution_count": 37,
   "id": "e281be46",
   "metadata": {},
   "outputs": [
    {
     "data": {
      "image/png": "[encoded data removed]",
      "text/plain": [
       "<Figure size 640x480 with 1 Axes>"
      ]
     },
     "metadata": {},
     "output_type": "display_data"
    }
   ],
   "source": [
    "# Create pie chart for Day of week profile\n",
    "dow_profile_pie = df_all_merged['orders_day_of_week'].value_counts().plot.pie(title ='Orders by day of week', label = '', colors = sns.color_palette('Blues', 7), autopct=('%1.f%%'))"
   ]
  },
  {
   "cell_type": "code",
   "execution_count": 38,
   "id": "85606fc1",
   "metadata": {},
   "outputs": [],
   "source": [
    "# Export pie chart\n",
    "dow_profile_pie .figure.savefig(os.path.join(path, '04 Analysis', 'Visualizations', 'Orders_by_dow_pie.png'))"
   ]
  },
  {
   "cell_type": "markdown",
   "id": "eaec39a1",
   "metadata": {},
   "source": [
    "## 7. Profile Aggregation"
   ]
  },
  {
   "cell_type": "markdown",
   "id": "3949ae37",
   "metadata": {},
   "source": [
    "Task 7: Aggregate the max, mean, and min variables on a customer-profile level for usage frequency and expenditure."
   ]
  },
  {
   "cell_type": "code",
   "execution_count": 39,
   "id": "674cb090",
   "metadata": {},
   "outputs": [
    {
     "data": {
      "text/html": [
       "<div>\n",
       "<style scoped>\n",
       "    .dataframe tbody tr th:only-of-type {\n",
       "        vertical-align: middle;\n",
       "    }\n",
       "\n",
       "    .dataframe tbody tr th {\n",
       "        vertical-align: top;\n",
       "    }\n",
       "\n",
       "    .dataframe thead tr th {\n",
       "        text-align: left;\n",
       "    }\n",
       "\n",
       "    .dataframe thead tr:last-of-type th {\n",
       "        text-align: right;\n",
       "    }\n",
       "</style>\n",
       "<table border=\"1\" class=\"dataframe\">\n",
       "  <thead>\n",
       "    <tr>\n",
       "      <th></th>\n",
       "      <th colspan=\"3\" halign=\"left\">days_since_prior_order</th>\n",
       "      <th colspan=\"4\" halign=\"left\">prices</th>\n",
       "    </tr>\n",
       "    <tr>\n",
       "      <th></th>\n",
       "      <th>min</th>\n",
       "      <th>max</th>\n",
       "      <th>mean</th>\n",
       "      <th>min</th>\n",
       "      <th>max</th>\n",
       "      <th>mean</th>\n",
       "      <th>sum</th>\n",
       "    </tr>\n",
       "    <tr>\n",
       "      <th>age_profile</th>\n",
       "      <th></th>\n",
       "      <th></th>\n",
       "      <th></th>\n",
       "      <th></th>\n",
       "      <th></th>\n",
       "      <th></th>\n",
       "      <th></th>\n",
       "    </tr>\n",
       "  </thead>\n",
       "  <tbody>\n",
       "    <tr>\n",
       "      <th>18-40</th>\n",
       "      <td>0.0</td>\n",
       "      <td>30.0</td>\n",
       "      <td>11.109790</td>\n",
       "      <td>1.0</td>\n",
       "      <td>99999.0</td>\n",
       "      <td>12.085039</td>\n",
       "      <td>141032956.7</td>\n",
       "    </tr>\n",
       "    <tr>\n",
       "      <th>41-65</th>\n",
       "      <td>0.0</td>\n",
       "      <td>30.0</td>\n",
       "      <td>11.113621</td>\n",
       "      <td>1.0</td>\n",
       "      <td>99999.0</td>\n",
       "      <td>11.974159</td>\n",
       "      <td>151433742.2</td>\n",
       "    </tr>\n",
       "    <tr>\n",
       "      <th>Above 65</th>\n",
       "      <td>0.0</td>\n",
       "      <td>30.0</td>\n",
       "      <td>11.080922</td>\n",
       "      <td>1.0</td>\n",
       "      <td>99999.0</td>\n",
       "      <td>11.838480</td>\n",
       "      <td>95750823.7</td>\n",
       "    </tr>\n",
       "  </tbody>\n",
       "</table>\n",
       "</div>"
      ],
      "text/plain": [
       "            days_since_prior_order                  prices           \\\n",
       "                               min   max       mean    min      max   \n",
       "age_profile                                                           \n",
       "18-40                          0.0  30.0  11.109790    1.0  99999.0   \n",
       "41-65                          0.0  30.0  11.113621    1.0  99999.0   \n",
       "Above 65                       0.0  30.0  11.080922    1.0  99999.0   \n",
       "\n",
       "                                     \n",
       "                  mean          sum  \n",
       "age_profile                          \n",
       "18-40        12.085039  141032956.7  \n",
       "41-65        11.974159  151433742.2  \n",
       "Above 65     11.838480   95750823.7  "
      ]
     },
     "execution_count": 39,
     "metadata": {},
     "output_type": "execute_result"
    }
   ],
   "source": [
    "# Descriptive statistics for age profile\n",
    "age_agg = df_all_merged.groupby(['age_profile']).agg({'days_since_prior_order' : ['min', 'max', 'mean'],'prices' : ['min', 'max', 'mean', 'sum']})\n",
    "age_agg"
   ]
  },
  {
   "cell_type": "code",
   "execution_count": 40,
   "id": "c5fd90ea",
   "metadata": {},
   "outputs": [
    {
     "data": {
      "text/html": [
       "<div>\n",
       "<style scoped>\n",
       "    .dataframe tbody tr th:only-of-type {\n",
       "        vertical-align: middle;\n",
       "    }\n",
       "\n",
       "    .dataframe tbody tr th {\n",
       "        vertical-align: top;\n",
       "    }\n",
       "\n",
       "    .dataframe thead tr th {\n",
       "        text-align: left;\n",
       "    }\n",
       "\n",
       "    .dataframe thead tr:last-of-type th {\n",
       "        text-align: right;\n",
       "    }\n",
       "</style>\n",
       "<table border=\"1\" class=\"dataframe\">\n",
       "  <thead>\n",
       "    <tr>\n",
       "      <th></th>\n",
       "      <th colspan=\"3\" halign=\"left\">days_since_prior_order</th>\n",
       "      <th colspan=\"4\" halign=\"left\">prices</th>\n",
       "    </tr>\n",
       "    <tr>\n",
       "      <th></th>\n",
       "      <th>min</th>\n",
       "      <th>max</th>\n",
       "      <th>mean</th>\n",
       "      <th>min</th>\n",
       "      <th>max</th>\n",
       "      <th>mean</th>\n",
       "      <th>sum</th>\n",
       "    </tr>\n",
       "    <tr>\n",
       "      <th>income_profile</th>\n",
       "      <th></th>\n",
       "      <th></th>\n",
       "      <th></th>\n",
       "      <th></th>\n",
       "      <th></th>\n",
       "      <th></th>\n",
       "      <th></th>\n",
       "    </tr>\n",
       "  </thead>\n",
       "  <tbody>\n",
       "    <tr>\n",
       "      <th>150k+</th>\n",
       "      <td>0.0</td>\n",
       "      <td>30.0</td>\n",
       "      <td>10.941399</td>\n",
       "      <td>1.0</td>\n",
       "      <td>99999.0</td>\n",
       "      <td>32.894506</td>\n",
       "      <td>133250381.7</td>\n",
       "    </tr>\n",
       "    <tr>\n",
       "      <th>50k - 150k</th>\n",
       "      <td>0.0</td>\n",
       "      <td>30.0</td>\n",
       "      <td>11.061343</td>\n",
       "      <td>1.0</td>\n",
       "      <td>99999.0</td>\n",
       "      <td>9.325453</td>\n",
       "      <td>230897619.2</td>\n",
       "    </tr>\n",
       "    <tr>\n",
       "      <th>&lt;=50k</th>\n",
       "      <td>0.0</td>\n",
       "      <td>30.0</td>\n",
       "      <td>11.587220</td>\n",
       "      <td>1.0</td>\n",
       "      <td>25.0</td>\n",
       "      <td>6.696985</td>\n",
       "      <td>24069521.7</td>\n",
       "    </tr>\n",
       "  </tbody>\n",
       "</table>\n",
       "</div>"
      ],
      "text/plain": [
       "               days_since_prior_order                  prices           \\\n",
       "                                  min   max       mean    min      max   \n",
       "income_profile                                                           \n",
       "150k+                             0.0  30.0  10.941399    1.0  99999.0   \n",
       "50k - 150k                        0.0  30.0  11.061343    1.0  99999.0   \n",
       "<=50k                             0.0  30.0  11.587220    1.0     25.0   \n",
       "\n",
       "                                        \n",
       "                     mean          sum  \n",
       "income_profile                          \n",
       "150k+           32.894506  133250381.7  \n",
       "50k - 150k       9.325453  230897619.2  \n",
       "<=50k            6.696985   24069521.7  "
      ]
     },
     "execution_count": 40,
     "metadata": {},
     "output_type": "execute_result"
    }
   ],
   "source": [
    "# Descriptive statistics for income profile\n",
    "income_agg = df_all_merged.groupby(['income_profile']).agg({'days_since_prior_order' : ['min', 'max', 'mean'], 'prices' : ['min', 'max', 'mean', 'sum']})\n",
    "income_agg"
   ]
  },
  {
   "cell_type": "code",
   "execution_count": 41,
   "id": "aa7c18f6",
   "metadata": {},
   "outputs": [
    {
     "data": {
      "text/html": [
       "<div>\n",
       "<style scoped>\n",
       "    .dataframe tbody tr th:only-of-type {\n",
       "        vertical-align: middle;\n",
       "    }\n",
       "\n",
       "    .dataframe tbody tr th {\n",
       "        vertical-align: top;\n",
       "    }\n",
       "\n",
       "    .dataframe thead tr th {\n",
       "        text-align: left;\n",
       "    }\n",
       "\n",
       "    .dataframe thead tr:last-of-type th {\n",
       "        text-align: right;\n",
       "    }\n",
       "</style>\n",
       "<table border=\"1\" class=\"dataframe\">\n",
       "  <thead>\n",
       "    <tr>\n",
       "      <th></th>\n",
       "      <th colspan=\"3\" halign=\"left\">days_since_prior_order</th>\n",
       "      <th colspan=\"4\" halign=\"left\">prices</th>\n",
       "    </tr>\n",
       "    <tr>\n",
       "      <th></th>\n",
       "      <th>min</th>\n",
       "      <th>max</th>\n",
       "      <th>mean</th>\n",
       "      <th>min</th>\n",
       "      <th>max</th>\n",
       "      <th>mean</th>\n",
       "      <th>sum</th>\n",
       "    </tr>\n",
       "    <tr>\n",
       "      <th>family_profile</th>\n",
       "      <th></th>\n",
       "      <th></th>\n",
       "      <th></th>\n",
       "      <th></th>\n",
       "      <th></th>\n",
       "      <th></th>\n",
       "      <th></th>\n",
       "    </tr>\n",
       "  </thead>\n",
       "  <tbody>\n",
       "    <tr>\n",
       "      <th>Family</th>\n",
       "      <td>0.0</td>\n",
       "      <td>30.0</td>\n",
       "      <td>11.111834</td>\n",
       "      <td>1.0</td>\n",
       "      <td>99999.0</td>\n",
       "      <td>11.930584</td>\n",
       "      <td>290000944.5</td>\n",
       "    </tr>\n",
       "    <tr>\n",
       "      <th>Single Adult</th>\n",
       "      <td>0.0</td>\n",
       "      <td>30.0</td>\n",
       "      <td>11.080805</td>\n",
       "      <td>1.0</td>\n",
       "      <td>99999.0</td>\n",
       "      <td>12.129243</td>\n",
       "      <td>98216578.1</td>\n",
       "    </tr>\n",
       "  </tbody>\n",
       "</table>\n",
       "</div>"
      ],
      "text/plain": [
       "               days_since_prior_order                  prices           \\\n",
       "                                  min   max       mean    min      max   \n",
       "family_profile                                                           \n",
       "Family                            0.0  30.0  11.111834    1.0  99999.0   \n",
       "Single Adult                      0.0  30.0  11.080805    1.0  99999.0   \n",
       "\n",
       "                                        \n",
       "                     mean          sum  \n",
       "family_profile                          \n",
       "Family          11.930584  290000944.5  \n",
       "Single Adult    12.129243   98216578.1  "
      ]
     },
     "execution_count": 41,
     "metadata": {},
     "output_type": "execute_result"
    }
   ],
   "source": [
    "# Descriptive statistics for family profile\n",
    "family_agg = df_all_merged.groupby(['family_profile']).agg({'days_since_prior_order' : ['min', 'max', 'mean'], 'prices' : ['min', 'max', 'mean', 'sum']})\n",
    "family_agg"
   ]
  },
  {
   "cell_type": "code",
   "execution_count": 42,
   "id": "b8eefcf0",
   "metadata": {},
   "outputs": [
    {
     "data": {
      "text/html": [
       "<div>\n",
       "<style scoped>\n",
       "    .dataframe tbody tr th:only-of-type {\n",
       "        vertical-align: middle;\n",
       "    }\n",
       "\n",
       "    .dataframe tbody tr th {\n",
       "        vertical-align: top;\n",
       "    }\n",
       "\n",
       "    .dataframe thead tr th {\n",
       "        text-align: left;\n",
       "    }\n",
       "\n",
       "    .dataframe thead tr:last-of-type th {\n",
       "        text-align: right;\n",
       "    }\n",
       "</style>\n",
       "<table border=\"1\" class=\"dataframe\">\n",
       "  <thead>\n",
       "    <tr>\n",
       "      <th></th>\n",
       "      <th colspan=\"3\" halign=\"left\">days_since_prior_order</th>\n",
       "      <th colspan=\"4\" halign=\"left\">prices</th>\n",
       "    </tr>\n",
       "    <tr>\n",
       "      <th></th>\n",
       "      <th>min</th>\n",
       "      <th>max</th>\n",
       "      <th>mean</th>\n",
       "      <th>min</th>\n",
       "      <th>max</th>\n",
       "      <th>mean</th>\n",
       "      <th>sum</th>\n",
       "    </tr>\n",
       "    <tr>\n",
       "      <th>orders_day_of_week</th>\n",
       "      <th></th>\n",
       "      <th></th>\n",
       "      <th></th>\n",
       "      <th></th>\n",
       "      <th></th>\n",
       "      <th></th>\n",
       "      <th></th>\n",
       "    </tr>\n",
       "  </thead>\n",
       "  <tbody>\n",
       "    <tr>\n",
       "      <th>0</th>\n",
       "      <td>0.0</td>\n",
       "      <td>30.0</td>\n",
       "      <td>11.614875</td>\n",
       "      <td>1.0</td>\n",
       "      <td>99999.0</td>\n",
       "      <td>11.166988</td>\n",
       "      <td>69282023.0</td>\n",
       "    </tr>\n",
       "    <tr>\n",
       "      <th>1</th>\n",
       "      <td>0.0</td>\n",
       "      <td>30.0</td>\n",
       "      <td>11.298687</td>\n",
       "      <td>1.0</td>\n",
       "      <td>99999.0</td>\n",
       "      <td>12.181343</td>\n",
       "      <td>68949204.4</td>\n",
       "    </tr>\n",
       "    <tr>\n",
       "      <th>2</th>\n",
       "      <td>0.0</td>\n",
       "      <td>30.0</td>\n",
       "      <td>11.282383</td>\n",
       "      <td>1.0</td>\n",
       "      <td>99999.0</td>\n",
       "      <td>12.356269</td>\n",
       "      <td>52067217.5</td>\n",
       "    </tr>\n",
       "    <tr>\n",
       "      <th>3</th>\n",
       "      <td>0.0</td>\n",
       "      <td>30.0</td>\n",
       "      <td>10.874934</td>\n",
       "      <td>1.0</td>\n",
       "      <td>99999.0</td>\n",
       "      <td>12.235072</td>\n",
       "      <td>46989210.9</td>\n",
       "    </tr>\n",
       "    <tr>\n",
       "      <th>4</th>\n",
       "      <td>0.0</td>\n",
       "      <td>30.0</td>\n",
       "      <td>10.547649</td>\n",
       "      <td>1.0</td>\n",
       "      <td>99999.0</td>\n",
       "      <td>12.169939</td>\n",
       "      <td>46048640.6</td>\n",
       "    </tr>\n",
       "    <tr>\n",
       "      <th>5</th>\n",
       "      <td>0.0</td>\n",
       "      <td>30.0</td>\n",
       "      <td>10.452144</td>\n",
       "      <td>1.0</td>\n",
       "      <td>99999.0</td>\n",
       "      <td>12.884135</td>\n",
       "      <td>54187979.1</td>\n",
       "    </tr>\n",
       "    <tr>\n",
       "      <th>6</th>\n",
       "      <td>0.0</td>\n",
       "      <td>30.0</td>\n",
       "      <td>11.269111</td>\n",
       "      <td>1.0</td>\n",
       "      <td>99999.0</td>\n",
       "      <td>11.273960</td>\n",
       "      <td>50693247.1</td>\n",
       "    </tr>\n",
       "  </tbody>\n",
       "</table>\n",
       "</div>"
      ],
      "text/plain": [
       "                   days_since_prior_order                  prices           \\\n",
       "                                      min   max       mean    min      max   \n",
       "orders_day_of_week                                                           \n",
       "0                                     0.0  30.0  11.614875    1.0  99999.0   \n",
       "1                                     0.0  30.0  11.298687    1.0  99999.0   \n",
       "2                                     0.0  30.0  11.282383    1.0  99999.0   \n",
       "3                                     0.0  30.0  10.874934    1.0  99999.0   \n",
       "4                                     0.0  30.0  10.547649    1.0  99999.0   \n",
       "5                                     0.0  30.0  10.452144    1.0  99999.0   \n",
       "6                                     0.0  30.0  11.269111    1.0  99999.0   \n",
       "\n",
       "                                           \n",
       "                         mean         sum  \n",
       "orders_day_of_week                         \n",
       "0                   11.166988  69282023.0  \n",
       "1                   12.181343  68949204.4  \n",
       "2                   12.356269  52067217.5  \n",
       "3                   12.235072  46989210.9  \n",
       "4                   12.169939  46048640.6  \n",
       "5                   12.884135  54187979.1  \n",
       "6                   11.273960  50693247.1  "
      ]
     },
     "execution_count": 42,
     "metadata": {},
     "output_type": "execute_result"
    }
   ],
   "source": [
    "# Descriptive statistics for day of the week orders profile\n",
    "orders_dow_agg = df_all_merged.groupby(['orders_day_of_week']).agg({'days_since_prior_order' : ['min', 'max', 'mean'], 'prices' : ['min', 'max', 'mean', 'sum']})\n",
    "orders_dow_agg"
   ]
  },
  {
   "cell_type": "code",
   "execution_count": 43,
   "id": "00245753",
   "metadata": {},
   "outputs": [
    {
     "data": {
      "text/html": [
       "<div>\n",
       "<style scoped>\n",
       "    .dataframe tbody tr th:only-of-type {\n",
       "        vertical-align: middle;\n",
       "    }\n",
       "\n",
       "    .dataframe tbody tr th {\n",
       "        vertical-align: top;\n",
       "    }\n",
       "\n",
       "    .dataframe thead tr th {\n",
       "        text-align: left;\n",
       "    }\n",
       "\n",
       "    .dataframe thead tr:last-of-type th {\n",
       "        text-align: right;\n",
       "    }\n",
       "</style>\n",
       "<table border=\"1\" class=\"dataframe\">\n",
       "  <thead>\n",
       "    <tr>\n",
       "      <th></th>\n",
       "      <th colspan=\"3\" halign=\"left\">days_since_prior_order</th>\n",
       "      <th colspan=\"4\" halign=\"left\">prices</th>\n",
       "    </tr>\n",
       "    <tr>\n",
       "      <th></th>\n",
       "      <th>min</th>\n",
       "      <th>max</th>\n",
       "      <th>mean</th>\n",
       "      <th>min</th>\n",
       "      <th>max</th>\n",
       "      <th>mean</th>\n",
       "      <th>sum</th>\n",
       "    </tr>\n",
       "    <tr>\n",
       "      <th>order_hour_of_day</th>\n",
       "      <th></th>\n",
       "      <th></th>\n",
       "      <th></th>\n",
       "      <th></th>\n",
       "      <th></th>\n",
       "      <th></th>\n",
       "      <th></th>\n",
       "    </tr>\n",
       "  </thead>\n",
       "  <tbody>\n",
       "    <tr>\n",
       "      <th>0</th>\n",
       "      <td>0.0</td>\n",
       "      <td>30.0</td>\n",
       "      <td>12.015821</td>\n",
       "      <td>1.0</td>\n",
       "      <td>99999.0</td>\n",
       "      <td>10.427095</td>\n",
       "      <td>2281125.1</td>\n",
       "    </tr>\n",
       "    <tr>\n",
       "      <th>1</th>\n",
       "      <td>0.0</td>\n",
       "      <td>30.0</td>\n",
       "      <td>12.356100</td>\n",
       "      <td>1.0</td>\n",
       "      <td>14900.0</td>\n",
       "      <td>9.993842</td>\n",
       "      <td>1156287.5</td>\n",
       "    </tr>\n",
       "    <tr>\n",
       "      <th>2</th>\n",
       "      <td>0.0</td>\n",
       "      <td>30.0</td>\n",
       "      <td>12.133394</td>\n",
       "      <td>1.0</td>\n",
       "      <td>99999.0</td>\n",
       "      <td>14.699103</td>\n",
       "      <td>1019750.3</td>\n",
       "    </tr>\n",
       "    <tr>\n",
       "      <th>3</th>\n",
       "      <td>0.0</td>\n",
       "      <td>30.0</td>\n",
       "      <td>12.404158</td>\n",
       "      <td>1.0</td>\n",
       "      <td>99999.0</td>\n",
       "      <td>13.262809</td>\n",
       "      <td>680130.1</td>\n",
       "    </tr>\n",
       "    <tr>\n",
       "      <th>4</th>\n",
       "      <td>0.0</td>\n",
       "      <td>30.0</td>\n",
       "      <td>12.741053</td>\n",
       "      <td>1.0</td>\n",
       "      <td>99999.0</td>\n",
       "      <td>12.234026</td>\n",
       "      <td>651364.0</td>\n",
       "    </tr>\n",
       "    <tr>\n",
       "      <th>5</th>\n",
       "      <td>0.0</td>\n",
       "      <td>30.0</td>\n",
       "      <td>11.750200</td>\n",
       "      <td>1.0</td>\n",
       "      <td>99999.0</td>\n",
       "      <td>12.641260</td>\n",
       "      <td>1111937.9</td>\n",
       "    </tr>\n",
       "    <tr>\n",
       "      <th>6</th>\n",
       "      <td>0.0</td>\n",
       "      <td>30.0</td>\n",
       "      <td>10.706380</td>\n",
       "      <td>1.0</td>\n",
       "      <td>99999.0</td>\n",
       "      <td>11.779887</td>\n",
       "      <td>3421974.7</td>\n",
       "    </tr>\n",
       "    <tr>\n",
       "      <th>7</th>\n",
       "      <td>0.0</td>\n",
       "      <td>30.0</td>\n",
       "      <td>10.533011</td>\n",
       "      <td>1.0</td>\n",
       "      <td>99999.0</td>\n",
       "      <td>12.301535</td>\n",
       "      <td>10961331.9</td>\n",
       "    </tr>\n",
       "    <tr>\n",
       "      <th>8</th>\n",
       "      <td>0.0</td>\n",
       "      <td>30.0</td>\n",
       "      <td>10.546751</td>\n",
       "      <td>1.0</td>\n",
       "      <td>99999.0</td>\n",
       "      <td>12.477302</td>\n",
       "      <td>21437476.7</td>\n",
       "    </tr>\n",
       "    <tr>\n",
       "      <th>9</th>\n",
       "      <td>0.0</td>\n",
       "      <td>30.0</td>\n",
       "      <td>10.673611</td>\n",
       "      <td>1.0</td>\n",
       "      <td>99999.0</td>\n",
       "      <td>11.747220</td>\n",
       "      <td>28830061.7</td>\n",
       "    </tr>\n",
       "    <tr>\n",
       "      <th>10</th>\n",
       "      <td>0.0</td>\n",
       "      <td>30.0</td>\n",
       "      <td>10.976324</td>\n",
       "      <td>1.0</td>\n",
       "      <td>99999.0</td>\n",
       "      <td>11.901193</td>\n",
       "      <td>32868237.5</td>\n",
       "    </tr>\n",
       "    <tr>\n",
       "      <th>11</th>\n",
       "      <td>0.0</td>\n",
       "      <td>30.0</td>\n",
       "      <td>11.162041</td>\n",
       "      <td>1.0</td>\n",
       "      <td>99999.0</td>\n",
       "      <td>12.158937</td>\n",
       "      <td>33268554.8</td>\n",
       "    </tr>\n",
       "    <tr>\n",
       "      <th>12</th>\n",
       "      <td>0.0</td>\n",
       "      <td>30.0</td>\n",
       "      <td>11.257181</td>\n",
       "      <td>1.0</td>\n",
       "      <td>99999.0</td>\n",
       "      <td>11.945792</td>\n",
       "      <td>31280439.7</td>\n",
       "    </tr>\n",
       "    <tr>\n",
       "      <th>13</th>\n",
       "      <td>0.0</td>\n",
       "      <td>30.0</td>\n",
       "      <td>11.271754</td>\n",
       "      <td>1.0</td>\n",
       "      <td>99999.0</td>\n",
       "      <td>11.477570</td>\n",
       "      <td>30541285.8</td>\n",
       "    </tr>\n",
       "    <tr>\n",
       "      <th>14</th>\n",
       "      <td>0.0</td>\n",
       "      <td>30.0</td>\n",
       "      <td>11.217488</td>\n",
       "      <td>1.0</td>\n",
       "      <td>99999.0</td>\n",
       "      <td>11.739501</td>\n",
       "      <td>31569115.4</td>\n",
       "    </tr>\n",
       "    <tr>\n",
       "      <th>15</th>\n",
       "      <td>0.0</td>\n",
       "      <td>30.0</td>\n",
       "      <td>11.257823</td>\n",
       "      <td>1.0</td>\n",
       "      <td>99999.0</td>\n",
       "      <td>12.170932</td>\n",
       "      <td>32400773.8</td>\n",
       "    </tr>\n",
       "    <tr>\n",
       "      <th>16</th>\n",
       "      <td>0.0</td>\n",
       "      <td>30.0</td>\n",
       "      <td>11.354328</td>\n",
       "      <td>1.0</td>\n",
       "      <td>99999.0</td>\n",
       "      <td>12.540657</td>\n",
       "      <td>31793097.5</td>\n",
       "    </tr>\n",
       "    <tr>\n",
       "      <th>17</th>\n",
       "      <td>0.0</td>\n",
       "      <td>30.0</td>\n",
       "      <td>11.475205</td>\n",
       "      <td>1.0</td>\n",
       "      <td>99999.0</td>\n",
       "      <td>12.807097</td>\n",
       "      <td>26736786.6</td>\n",
       "    </tr>\n",
       "    <tr>\n",
       "      <th>18</th>\n",
       "      <td>0.0</td>\n",
       "      <td>30.0</td>\n",
       "      <td>11.412620</td>\n",
       "      <td>1.0</td>\n",
       "      <td>99999.0</td>\n",
       "      <td>11.829452</td>\n",
       "      <td>19358922.1</td>\n",
       "    </tr>\n",
       "    <tr>\n",
       "      <th>19</th>\n",
       "      <td>0.0</td>\n",
       "      <td>30.0</td>\n",
       "      <td>11.208248</td>\n",
       "      <td>1.0</td>\n",
       "      <td>99999.0</td>\n",
       "      <td>12.533304</td>\n",
       "      <td>15770718.8</td>\n",
       "    </tr>\n",
       "    <tr>\n",
       "      <th>20</th>\n",
       "      <td>0.0</td>\n",
       "      <td>30.0</td>\n",
       "      <td>10.691257</td>\n",
       "      <td>1.0</td>\n",
       "      <td>99999.0</td>\n",
       "      <td>11.749487</td>\n",
       "      <td>11469332.3</td>\n",
       "    </tr>\n",
       "    <tr>\n",
       "      <th>21</th>\n",
       "      <td>0.0</td>\n",
       "      <td>30.0</td>\n",
       "      <td>10.490180</td>\n",
       "      <td>1.0</td>\n",
       "      <td>99999.0</td>\n",
       "      <td>11.236173</td>\n",
       "      <td>8939914.7</td>\n",
       "    </tr>\n",
       "    <tr>\n",
       "      <th>22</th>\n",
       "      <td>0.0</td>\n",
       "      <td>30.0</td>\n",
       "      <td>10.535959</td>\n",
       "      <td>1.0</td>\n",
       "      <td>99999.0</td>\n",
       "      <td>10.037468</td>\n",
       "      <td>6366013.0</td>\n",
       "    </tr>\n",
       "    <tr>\n",
       "      <th>23</th>\n",
       "      <td>0.0</td>\n",
       "      <td>30.0</td>\n",
       "      <td>10.829761</td>\n",
       "      <td>1.0</td>\n",
       "      <td>99999.0</td>\n",
       "      <td>10.695301</td>\n",
       "      <td>4302890.7</td>\n",
       "    </tr>\n",
       "  </tbody>\n",
       "</table>\n",
       "</div>"
      ],
      "text/plain": [
       "                  days_since_prior_order                  prices           \\\n",
       "                                     min   max       mean    min      max   \n",
       "order_hour_of_day                                                           \n",
       "0                                    0.0  30.0  12.015821    1.0  99999.0   \n",
       "1                                    0.0  30.0  12.356100    1.0  14900.0   \n",
       "2                                    0.0  30.0  12.133394    1.0  99999.0   \n",
       "3                                    0.0  30.0  12.404158    1.0  99999.0   \n",
       "4                                    0.0  30.0  12.741053    1.0  99999.0   \n",
       "5                                    0.0  30.0  11.750200    1.0  99999.0   \n",
       "6                                    0.0  30.0  10.706380    1.0  99999.0   \n",
       "7                                    0.0  30.0  10.533011    1.0  99999.0   \n",
       "8                                    0.0  30.0  10.546751    1.0  99999.0   \n",
       "9                                    0.0  30.0  10.673611    1.0  99999.0   \n",
       "10                                   0.0  30.0  10.976324    1.0  99999.0   \n",
       "11                                   0.0  30.0  11.162041    1.0  99999.0   \n",
       "12                                   0.0  30.0  11.257181    1.0  99999.0   \n",
       "13                                   0.0  30.0  11.271754    1.0  99999.0   \n",
       "14                                   0.0  30.0  11.217488    1.0  99999.0   \n",
       "15                                   0.0  30.0  11.257823    1.0  99999.0   \n",
       "16                                   0.0  30.0  11.354328    1.0  99999.0   \n",
       "17                                   0.0  30.0  11.475205    1.0  99999.0   \n",
       "18                                   0.0  30.0  11.412620    1.0  99999.0   \n",
       "19                                   0.0  30.0  11.208248    1.0  99999.0   \n",
       "20                                   0.0  30.0  10.691257    1.0  99999.0   \n",
       "21                                   0.0  30.0  10.490180    1.0  99999.0   \n",
       "22                                   0.0  30.0  10.535959    1.0  99999.0   \n",
       "23                                   0.0  30.0  10.829761    1.0  99999.0   \n",
       "\n",
       "                                          \n",
       "                        mean         sum  \n",
       "order_hour_of_day                         \n",
       "0                  10.427095   2281125.1  \n",
       "1                   9.993842   1156287.5  \n",
       "2                  14.699103   1019750.3  \n",
       "3                  13.262809    680130.1  \n",
       "4                  12.234026    651364.0  \n",
       "5                  12.641260   1111937.9  \n",
       "6                  11.779887   3421974.7  \n",
       "7                  12.301535  10961331.9  \n",
       "8                  12.477302  21437476.7  \n",
       "9                  11.747220  28830061.7  \n",
       "10                 11.901193  32868237.5  \n",
       "11                 12.158937  33268554.8  \n",
       "12                 11.945792  31280439.7  \n",
       "13                 11.477570  30541285.8  \n",
       "14                 11.739501  31569115.4  \n",
       "15                 12.170932  32400773.8  \n",
       "16                 12.540657  31793097.5  \n",
       "17                 12.807097  26736786.6  \n",
       "18                 11.829452  19358922.1  \n",
       "19                 12.533304  15770718.8  \n",
       "20                 11.749487  11469332.3  \n",
       "21                 11.236173   8939914.7  \n",
       "22                 10.037468   6366013.0  \n",
       "23                 10.695301   4302890.7  "
      ]
     },
     "execution_count": 43,
     "metadata": {},
     "output_type": "execute_result"
    }
   ],
   "source": [
    "# Descriptive statistics for day of the week orders profile\n",
    "order_hod_agg = df_all_merged.groupby(['order_hour_of_day']).agg({'days_since_prior_order' : ['min', 'max', 'mean'], 'prices' : ['min', 'max', 'mean', 'sum']})\n",
    "order_hod_agg"
   ]
  },
  {
   "cell_type": "markdown",
   "id": "baddb058",
   "metadata": {},
   "source": [
    "## 8. Visualizations of profiles by Region & Department"
   ]
  },
  {
   "cell_type": "markdown",
   "id": "bc2d86c5",
   "metadata": {},
   "source": [
    "Task 8: Compare your customer profiles with regions and departments. Can you identify a link between them? Customers may demonstrate different behaviors across regions, which could make this information important."
   ]
  },
  {
   "cell_type": "code",
   "execution_count": 44,
   "id": "ad052fd3",
   "metadata": {},
   "outputs": [],
   "source": [
    "#crosstab between age profile and region\n",
    "region_age_profile = pd.crosstab(df_all_merged['region'], df_all_merged['age_profile'], dropna = False)"
   ]
  },
  {
   "cell_type": "code",
   "execution_count": 45,
   "id": "eb0e8ba1",
   "metadata": {},
   "outputs": [],
   "source": [
    "region_age_profile.to_clipboard()"
   ]
  },
  {
   "cell_type": "code",
   "execution_count": 46,
   "id": "76b01a0d",
   "metadata": {},
   "outputs": [
    {
     "data": {
      "text/html": [
       "<div>\n",
       "<style scoped>\n",
       "    .dataframe tbody tr th:only-of-type {\n",
       "        vertical-align: middle;\n",
       "    }\n",
       "\n",
       "    .dataframe tbody tr th {\n",
       "        vertical-align: top;\n",
       "    }\n",
       "\n",
       "    .dataframe thead th {\n",
       "        text-align: right;\n",
       "    }\n",
       "</style>\n",
       "<table border=\"1\" class=\"dataframe\">\n",
       "  <thead>\n",
       "    <tr style=\"text-align: right;\">\n",
       "      <th>age_profile</th>\n",
       "      <th>18-40</th>\n",
       "      <th>41-65</th>\n",
       "      <th>Above 65</th>\n",
       "    </tr>\n",
       "    <tr>\n",
       "      <th>region</th>\n",
       "      <th></th>\n",
       "      <th></th>\n",
       "      <th></th>\n",
       "    </tr>\n",
       "  </thead>\n",
       "  <tbody>\n",
       "    <tr>\n",
       "      <th>Midwest</th>\n",
       "      <td>2714478</td>\n",
       "      <td>3001210</td>\n",
       "      <td>1881637</td>\n",
       "    </tr>\n",
       "    <tr>\n",
       "      <th>Northeast</th>\n",
       "      <td>2045848</td>\n",
       "      <td>2217936</td>\n",
       "      <td>1458952</td>\n",
       "    </tr>\n",
       "    <tr>\n",
       "      <th>South</th>\n",
       "      <td>3950044</td>\n",
       "      <td>4172421</td>\n",
       "      <td>2669420</td>\n",
       "    </tr>\n",
       "    <tr>\n",
       "      <th>West</th>\n",
       "      <td>2959676</td>\n",
       "      <td>3255145</td>\n",
       "      <td>2078092</td>\n",
       "    </tr>\n",
       "  </tbody>\n",
       "</table>\n",
       "</div>"
      ],
      "text/plain": [
       "age_profile    18-40    41-65  Above 65\n",
       "region                                 \n",
       "Midwest      2714478  3001210   1881637\n",
       "Northeast    2045848  2217936   1458952\n",
       "South        3950044  4172421   2669420\n",
       "West         2959676  3255145   2078092"
      ]
     },
     "execution_count": 46,
     "metadata": {},
     "output_type": "execute_result"
    }
   ],
   "source": [
    "region_age_profile"
   ]
  },
  {
   "cell_type": "code",
   "execution_count": 47,
   "id": "2a7bc42f",
   "metadata": {},
   "outputs": [
    {
     "data": {
      "image/png": "[encoded data removed]",
      "text/plain": [
       "<Figure size 640x480 with 1 Axes>"
      ]
     },
     "metadata": {},
     "output_type": "display_data"
    }
   ],
   "source": [
    "region_age_profile_bar = region_age_profile.plot.bar(title ='Age Profile by region',rot = 0, color = sns.color_palette('Blues', 3))"
   ]
  },
  {
   "cell_type": "code",
   "execution_count": 48,
   "id": "2b58d4b6",
   "metadata": {},
   "outputs": [],
   "source": [
    "# Export bar chart\n",
    "region_age_profile_bar.figure.savefig(os.path.join(path, '04 Analysis', 'Visualizations', 'Age_profile_region_bar.png'))"
   ]
  },
  {
   "cell_type": "code",
   "execution_count": 49,
   "id": "000a4ad8",
   "metadata": {},
   "outputs": [],
   "source": [
    "#crosstab between income profile and region\n",
    "region_income_profile = pd.crosstab(df_all_merged['region'], df_all_merged['income_profile'], dropna = False)"
   ]
  },
  {
   "cell_type": "code",
   "execution_count": 50,
   "id": "f8040cae",
   "metadata": {},
   "outputs": [],
   "source": [
    "region_income_profile.to_clipboard()"
   ]
  },
  {
   "cell_type": "code",
   "execution_count": 51,
   "id": "68441ccf",
   "metadata": {},
   "outputs": [
    {
     "data": {
      "text/html": [
       "<div>\n",
       "<style scoped>\n",
       "    .dataframe tbody tr th:only-of-type {\n",
       "        vertical-align: middle;\n",
       "    }\n",
       "\n",
       "    .dataframe tbody tr th {\n",
       "        vertical-align: top;\n",
       "    }\n",
       "\n",
       "    .dataframe thead th {\n",
       "        text-align: right;\n",
       "    }\n",
       "</style>\n",
       "<table border=\"1\" class=\"dataframe\">\n",
       "  <thead>\n",
       "    <tr style=\"text-align: right;\">\n",
       "      <th>income_profile</th>\n",
       "      <th>150k+</th>\n",
       "      <th>50k - 150k</th>\n",
       "      <th>&lt;=50k</th>\n",
       "    </tr>\n",
       "    <tr>\n",
       "      <th>region</th>\n",
       "      <th></th>\n",
       "      <th></th>\n",
       "      <th></th>\n",
       "    </tr>\n",
       "  </thead>\n",
       "  <tbody>\n",
       "    <tr>\n",
       "      <th>Midwest</th>\n",
       "      <td>955414</td>\n",
       "      <td>5803513</td>\n",
       "      <td>838398</td>\n",
       "    </tr>\n",
       "    <tr>\n",
       "      <th>Northeast</th>\n",
       "      <td>706738</td>\n",
       "      <td>4388742</td>\n",
       "      <td>627256</td>\n",
       "    </tr>\n",
       "    <tr>\n",
       "      <th>South</th>\n",
       "      <td>1342055</td>\n",
       "      <td>8230370</td>\n",
       "      <td>1219460</td>\n",
       "    </tr>\n",
       "    <tr>\n",
       "      <th>West</th>\n",
       "      <td>1046633</td>\n",
       "      <td>6337311</td>\n",
       "      <td>908969</td>\n",
       "    </tr>\n",
       "  </tbody>\n",
       "</table>\n",
       "</div>"
      ],
      "text/plain": [
       "income_profile    150k+  50k - 150k    <=50k\n",
       "region                                      \n",
       "Midwest          955414     5803513   838398\n",
       "Northeast        706738     4388742   627256\n",
       "South           1342055     8230370  1219460\n",
       "West            1046633     6337311   908969"
      ]
     },
     "execution_count": 51,
     "metadata": {},
     "output_type": "execute_result"
    }
   ],
   "source": [
    "region_income_profile"
   ]
  },
  {
   "cell_type": "code",
   "execution_count": 52,
   "id": "d57345c4",
   "metadata": {},
   "outputs": [
    {
     "data": {
      "image/png": "[encoded data removed]",
      "text/plain": [
       "<Figure size 640x480 with 1 Axes>"
      ]
     },
     "metadata": {},
     "output_type": "display_data"
    }
   ],
   "source": [
    "region_income_profile_bar = region_income_profile.plot.bar(title ='Income Profile by region', color = sns.color_palette('Blues', 3))"
   ]
  },
  {
   "cell_type": "code",
   "execution_count": 53,
   "id": "afc00163",
   "metadata": {},
   "outputs": [],
   "source": [
    "# Export bar chart\n",
    "region_income_profile_bar.figure.savefig(os.path.join(path, '04 Analysis', 'Visualizations', 'Income_profile_region_bar.png'))"
   ]
  },
  {
   "cell_type": "code",
   "execution_count": 54,
   "id": "ed1438fc",
   "metadata": {},
   "outputs": [],
   "source": [
    "# Depertment selection by age profiles\n",
    "depts_age_profile = pd.crosstab(df_all_merged['department_id'], df_all_merged['age_profile'], dropna = False)"
   ]
  },
  {
   "cell_type": "code",
   "execution_count": 55,
   "id": "37e98e5e",
   "metadata": {},
   "outputs": [],
   "source": [
    "depts_age_profile.to_clipboard()"
   ]
  },
  {
   "cell_type": "code",
   "execution_count": 56,
   "id": "a7b15614",
   "metadata": {},
   "outputs": [
    {
     "data": {
      "text/html": [
       "<div>\n",
       "<style scoped>\n",
       "    .dataframe tbody tr th:only-of-type {\n",
       "        vertical-align: middle;\n",
       "    }\n",
       "\n",
       "    .dataframe tbody tr th {\n",
       "        vertical-align: top;\n",
       "    }\n",
       "\n",
       "    .dataframe thead th {\n",
       "        text-align: right;\n",
       "    }\n",
       "</style>\n",
       "<table border=\"1\" class=\"dataframe\">\n",
       "  <thead>\n",
       "    <tr style=\"text-align: right;\">\n",
       "      <th>age_profile</th>\n",
       "      <th>18-40</th>\n",
       "      <th>41-65</th>\n",
       "      <th>Above 65</th>\n",
       "    </tr>\n",
       "    <tr>\n",
       "      <th>department_id</th>\n",
       "      <th></th>\n",
       "      <th></th>\n",
       "      <th></th>\n",
       "    </tr>\n",
       "  </thead>\n",
       "  <tbody>\n",
       "    <tr>\n",
       "      <th>1</th>\n",
       "      <td>801086</td>\n",
       "      <td>873340</td>\n",
       "      <td>560317</td>\n",
       "    </tr>\n",
       "    <tr>\n",
       "      <th>2</th>\n",
       "      <td>13218</td>\n",
       "      <td>14275</td>\n",
       "      <td>8798</td>\n",
       "    </tr>\n",
       "    <tr>\n",
       "      <th>3</th>\n",
       "      <td>421442</td>\n",
       "      <td>459763</td>\n",
       "      <td>291223</td>\n",
       "    </tr>\n",
       "    <tr>\n",
       "      <th>4</th>\n",
       "      <td>3417016</td>\n",
       "      <td>3693961</td>\n",
       "      <td>2368314</td>\n",
       "    </tr>\n",
       "    <tr>\n",
       "      <th>5</th>\n",
       "      <td>57243</td>\n",
       "      <td>59505</td>\n",
       "      <td>36948</td>\n",
       "    </tr>\n",
       "    <tr>\n",
       "      <th>6</th>\n",
       "      <td>97977</td>\n",
       "      <td>104661</td>\n",
       "      <td>66615</td>\n",
       "    </tr>\n",
       "    <tr>\n",
       "      <th>7</th>\n",
       "      <td>957256</td>\n",
       "      <td>1055598</td>\n",
       "      <td>675269</td>\n",
       "    </tr>\n",
       "    <tr>\n",
       "      <th>8</th>\n",
       "      <td>35248</td>\n",
       "      <td>37591</td>\n",
       "      <td>24877</td>\n",
       "    </tr>\n",
       "    <tr>\n",
       "      <th>9</th>\n",
       "      <td>312430</td>\n",
       "      <td>337785</td>\n",
       "      <td>216412</td>\n",
       "    </tr>\n",
       "    <tr>\n",
       "      <th>10</th>\n",
       "      <td>12508</td>\n",
       "      <td>13456</td>\n",
       "      <td>8609</td>\n",
       "    </tr>\n",
       "    <tr>\n",
       "      <th>11</th>\n",
       "      <td>160350</td>\n",
       "      <td>176621</td>\n",
       "      <td>110601</td>\n",
       "    </tr>\n",
       "    <tr>\n",
       "      <th>12</th>\n",
       "      <td>253723</td>\n",
       "      <td>275946</td>\n",
       "      <td>179258</td>\n",
       "    </tr>\n",
       "    <tr>\n",
       "      <th>13</th>\n",
       "      <td>672494</td>\n",
       "      <td>734459</td>\n",
       "      <td>468416</td>\n",
       "    </tr>\n",
       "    <tr>\n",
       "      <th>14</th>\n",
       "      <td>253803</td>\n",
       "      <td>275661</td>\n",
       "      <td>173569</td>\n",
       "    </tr>\n",
       "    <tr>\n",
       "      <th>15</th>\n",
       "      <td>386223</td>\n",
       "      <td>415814</td>\n",
       "      <td>266021</td>\n",
       "    </tr>\n",
       "    <tr>\n",
       "      <th>16</th>\n",
       "      <td>1952617</td>\n",
       "      <td>2100341</td>\n",
       "      <td>1345789</td>\n",
       "    </tr>\n",
       "    <tr>\n",
       "      <th>17</th>\n",
       "      <td>264510</td>\n",
       "      <td>288118</td>\n",
       "      <td>186038</td>\n",
       "    </tr>\n",
       "    <tr>\n",
       "      <th>18</th>\n",
       "      <td>152763</td>\n",
       "      <td>167813</td>\n",
       "      <td>103226</td>\n",
       "    </tr>\n",
       "    <tr>\n",
       "      <th>19</th>\n",
       "      <td>1044638</td>\n",
       "      <td>1124272</td>\n",
       "      <td>718640</td>\n",
       "    </tr>\n",
       "    <tr>\n",
       "      <th>20</th>\n",
       "      <td>378298</td>\n",
       "      <td>410810</td>\n",
       "      <td>262141</td>\n",
       "    </tr>\n",
       "    <tr>\n",
       "      <th>21</th>\n",
       "      <td>25203</td>\n",
       "      <td>26922</td>\n",
       "      <td>17020</td>\n",
       "    </tr>\n",
       "  </tbody>\n",
       "</table>\n",
       "</div>"
      ],
      "text/plain": [
       "age_profile      18-40    41-65  Above 65\n",
       "department_id                            \n",
       "1               801086   873340    560317\n",
       "2                13218    14275      8798\n",
       "3               421442   459763    291223\n",
       "4              3417016  3693961   2368314\n",
       "5                57243    59505     36948\n",
       "6                97977   104661     66615\n",
       "7               957256  1055598    675269\n",
       "8                35248    37591     24877\n",
       "9               312430   337785    216412\n",
       "10               12508    13456      8609\n",
       "11              160350   176621    110601\n",
       "12              253723   275946    179258\n",
       "13              672494   734459    468416\n",
       "14              253803   275661    173569\n",
       "15              386223   415814    266021\n",
       "16             1952617  2100341   1345789\n",
       "17              264510   288118    186038\n",
       "18              152763   167813    103226\n",
       "19             1044638  1124272    718640\n",
       "20              378298   410810    262141\n",
       "21               25203    26922     17020"
      ]
     },
     "execution_count": 56,
     "metadata": {},
     "output_type": "execute_result"
    }
   ],
   "source": [
    "depts_age_profile"
   ]
  },
  {
   "cell_type": "code",
   "execution_count": 57,
   "id": "b549ff2c",
   "metadata": {},
   "outputs": [
    {
     "data": {
      "image/png": "[encoded data removed]",
      "text/plain": [
       "<Figure size 640x480 with 1 Axes>"
      ]
     },
     "metadata": {},
     "output_type": "display_data"
    }
   ],
   "source": [
    "depts_age_profile_bar = depts_age_profile.plot(kind = 'bar', stacked = True, title = 'Age profile by Department', color = sns.color_palette('Blues', 3), xlabel = '')"
   ]
  },
  {
   "cell_type": "code",
   "execution_count": 58,
   "id": "f6ecfba4",
   "metadata": {},
   "outputs": [],
   "source": [
    "# Export  chart\n",
    "depts_age_profile_bar.figure.savefig(os.path.join(path, '04 Analysis', 'Visualizations', 'Age_profile_departmemt_bar.png'))"
   ]
  },
  {
   "cell_type": "code",
   "execution_count": 59,
   "id": "4eabee6d",
   "metadata": {},
   "outputs": [],
   "source": [
    "# Depertment selection by income profiles\n",
    "depts_income_profile = pd.crosstab(df_all_merged['department_id'], df_all_merged['income_profile'], dropna = False)"
   ]
  },
  {
   "cell_type": "code",
   "execution_count": 60,
   "id": "a617117a",
   "metadata": {},
   "outputs": [],
   "source": [
    "depts_income_profile.to_clipboard()"
   ]
  },
  {
   "cell_type": "code",
   "execution_count": 61,
   "id": "3b07af15",
   "metadata": {},
   "outputs": [
    {
     "data": {
      "text/html": [
       "<div>\n",
       "<style scoped>\n",
       "    .dataframe tbody tr th:only-of-type {\n",
       "        vertical-align: middle;\n",
       "    }\n",
       "\n",
       "    .dataframe tbody tr th {\n",
       "        vertical-align: top;\n",
       "    }\n",
       "\n",
       "    .dataframe thead th {\n",
       "        text-align: right;\n",
       "    }\n",
       "</style>\n",
       "<table border=\"1\" class=\"dataframe\">\n",
       "  <thead>\n",
       "    <tr style=\"text-align: right;\">\n",
       "      <th>income_profile</th>\n",
       "      <th>150k+</th>\n",
       "      <th>50k - 150k</th>\n",
       "      <th>&lt;=50k</th>\n",
       "    </tr>\n",
       "    <tr>\n",
       "      <th>department_id</th>\n",
       "      <th></th>\n",
       "      <th></th>\n",
       "      <th></th>\n",
       "    </tr>\n",
       "  </thead>\n",
       "  <tbody>\n",
       "    <tr>\n",
       "      <th>1</th>\n",
       "      <td>288292</td>\n",
       "      <td>1712961</td>\n",
       "      <td>233490</td>\n",
       "    </tr>\n",
       "    <tr>\n",
       "      <th>2</th>\n",
       "      <td>4749</td>\n",
       "      <td>27359</td>\n",
       "      <td>4183</td>\n",
       "    </tr>\n",
       "    <tr>\n",
       "      <th>3</th>\n",
       "      <td>154040</td>\n",
       "      <td>903679</td>\n",
       "      <td>114709</td>\n",
       "    </tr>\n",
       "    <tr>\n",
       "      <th>4</th>\n",
       "      <td>1179115</td>\n",
       "      <td>7418074</td>\n",
       "      <td>882102</td>\n",
       "    </tr>\n",
       "    <tr>\n",
       "      <th>5</th>\n",
       "      <td>24953</td>\n",
       "      <td>108935</td>\n",
       "      <td>19808</td>\n",
       "    </tr>\n",
       "    <tr>\n",
       "      <th>6</th>\n",
       "      <td>34283</td>\n",
       "      <td>211529</td>\n",
       "      <td>23441</td>\n",
       "    </tr>\n",
       "    <tr>\n",
       "      <th>7</th>\n",
       "      <td>325093</td>\n",
       "      <td>1957525</td>\n",
       "      <td>405505</td>\n",
       "    </tr>\n",
       "    <tr>\n",
       "      <th>8</th>\n",
       "      <td>13514</td>\n",
       "      <td>74890</td>\n",
       "      <td>9312</td>\n",
       "    </tr>\n",
       "    <tr>\n",
       "      <th>9</th>\n",
       "      <td>111248</td>\n",
       "      <td>684738</td>\n",
       "      <td>70641</td>\n",
       "    </tr>\n",
       "    <tr>\n",
       "      <th>10</th>\n",
       "      <td>3773</td>\n",
       "      <td>25911</td>\n",
       "      <td>4889</td>\n",
       "    </tr>\n",
       "    <tr>\n",
       "      <th>11</th>\n",
       "      <td>56053</td>\n",
       "      <td>339764</td>\n",
       "      <td>51755</td>\n",
       "    </tr>\n",
       "    <tr>\n",
       "      <th>12</th>\n",
       "      <td>95722</td>\n",
       "      <td>576140</td>\n",
       "      <td>37065</td>\n",
       "    </tr>\n",
       "    <tr>\n",
       "      <th>13</th>\n",
       "      <td>242268</td>\n",
       "      <td>1453669</td>\n",
       "      <td>179432</td>\n",
       "    </tr>\n",
       "    <tr>\n",
       "      <th>14</th>\n",
       "      <td>86853</td>\n",
       "      <td>518812</td>\n",
       "      <td>97368</td>\n",
       "    </tr>\n",
       "    <tr>\n",
       "      <th>15</th>\n",
       "      <td>138733</td>\n",
       "      <td>842673</td>\n",
       "      <td>86652</td>\n",
       "    </tr>\n",
       "    <tr>\n",
       "      <th>16</th>\n",
       "      <td>684241</td>\n",
       "      <td>4179427</td>\n",
       "      <td>535079</td>\n",
       "    </tr>\n",
       "    <tr>\n",
       "      <th>17</th>\n",
       "      <td>96776</td>\n",
       "      <td>547711</td>\n",
       "      <td>94179</td>\n",
       "    </tr>\n",
       "    <tr>\n",
       "      <th>18</th>\n",
       "      <td>54433</td>\n",
       "      <td>338511</td>\n",
       "      <td>30858</td>\n",
       "    </tr>\n",
       "    <tr>\n",
       "      <th>19</th>\n",
       "      <td>316968</td>\n",
       "      <td>1978303</td>\n",
       "      <td>592279</td>\n",
       "    </tr>\n",
       "    <tr>\n",
       "      <th>20</th>\n",
       "      <td>130995</td>\n",
       "      <td>806158</td>\n",
       "      <td>114096</td>\n",
       "    </tr>\n",
       "    <tr>\n",
       "      <th>21</th>\n",
       "      <td>8738</td>\n",
       "      <td>53167</td>\n",
       "      <td>7240</td>\n",
       "    </tr>\n",
       "  </tbody>\n",
       "</table>\n",
       "</div>"
      ],
      "text/plain": [
       "income_profile    150k+  50k - 150k   <=50k\n",
       "department_id                              \n",
       "1                288292     1712961  233490\n",
       "2                  4749       27359    4183\n",
       "3                154040      903679  114709\n",
       "4               1179115     7418074  882102\n",
       "5                 24953      108935   19808\n",
       "6                 34283      211529   23441\n",
       "7                325093     1957525  405505\n",
       "8                 13514       74890    9312\n",
       "9                111248      684738   70641\n",
       "10                 3773       25911    4889\n",
       "11                56053      339764   51755\n",
       "12                95722      576140   37065\n",
       "13               242268     1453669  179432\n",
       "14                86853      518812   97368\n",
       "15               138733      842673   86652\n",
       "16               684241     4179427  535079\n",
       "17                96776      547711   94179\n",
       "18                54433      338511   30858\n",
       "19               316968     1978303  592279\n",
       "20               130995      806158  114096\n",
       "21                 8738       53167    7240"
      ]
     },
     "execution_count": 61,
     "metadata": {},
     "output_type": "execute_result"
    }
   ],
   "source": [
    "depts_income_profile"
   ]
  },
  {
   "cell_type": "code",
   "execution_count": 62,
   "id": "723ad0fb",
   "metadata": {},
   "outputs": [
    {
     "data": {
      "image/png": "[encoded data removed]",
      "text/plain": [
       "<Figure size 640x480 with 1 Axes>"
      ]
     },
     "metadata": {},
     "output_type": "display_data"
    }
   ],
   "source": [
    "depts_income_profile_bar = depts_income_profile.plot(kind = 'bar', stacked = True, title = 'Income profile by Department', color = sns.color_palette('Blues', 3), xlabel = '')"
   ]
  },
  {
   "cell_type": "code",
   "execution_count": 63,
   "id": "75374aa3",
   "metadata": {},
   "outputs": [],
   "source": [
    "# Export  chart\n",
    "depts_income_profile_bar.figure.savefig(os.path.join(path, '04 Analysis', 'Visualizations', 'Income_profile_departmemt_bar.png'))"
   ]
  },
  {
   "cell_type": "code",
   "execution_count": 64,
   "id": "bda2efb9",
   "metadata": {},
   "outputs": [],
   "source": [
    "#crosstab between family profile and region\n",
    "region_family_profile = pd.crosstab(df_all_merged['region'], df_all_merged['family_profile'], dropna = False)"
   ]
  },
  {
   "cell_type": "code",
   "execution_count": 65,
   "id": "36977478",
   "metadata": {},
   "outputs": [],
   "source": [
    "region_family_profile.to_clipboard()"
   ]
  },
  {
   "cell_type": "code",
   "execution_count": 66,
   "id": "2b611c8d",
   "metadata": {},
   "outputs": [
    {
     "data": {
      "text/html": [
       "<div>\n",
       "<style scoped>\n",
       "    .dataframe tbody tr th:only-of-type {\n",
       "        vertical-align: middle;\n",
       "    }\n",
       "\n",
       "    .dataframe tbody tr th {\n",
       "        vertical-align: top;\n",
       "    }\n",
       "\n",
       "    .dataframe thead th {\n",
       "        text-align: right;\n",
       "    }\n",
       "</style>\n",
       "<table border=\"1\" class=\"dataframe\">\n",
       "  <thead>\n",
       "    <tr style=\"text-align: right;\">\n",
       "      <th>family_profile</th>\n",
       "      <th>Family</th>\n",
       "      <th>Single Adult</th>\n",
       "    </tr>\n",
       "    <tr>\n",
       "      <th>region</th>\n",
       "      <th></th>\n",
       "      <th></th>\n",
       "    </tr>\n",
       "  </thead>\n",
       "  <tbody>\n",
       "    <tr>\n",
       "      <th>Midwest</th>\n",
       "      <td>5692125</td>\n",
       "      <td>1905200</td>\n",
       "    </tr>\n",
       "    <tr>\n",
       "      <th>Northeast</th>\n",
       "      <td>4304435</td>\n",
       "      <td>1418301</td>\n",
       "    </tr>\n",
       "    <tr>\n",
       "      <th>South</th>\n",
       "      <td>8090226</td>\n",
       "      <td>2701659</td>\n",
       "    </tr>\n",
       "    <tr>\n",
       "      <th>West</th>\n",
       "      <td>6220570</td>\n",
       "      <td>2072343</td>\n",
       "    </tr>\n",
       "  </tbody>\n",
       "</table>\n",
       "</div>"
      ],
      "text/plain": [
       "family_profile   Family  Single Adult\n",
       "region                               \n",
       "Midwest         5692125       1905200\n",
       "Northeast       4304435       1418301\n",
       "South           8090226       2701659\n",
       "West            6220570       2072343"
      ]
     },
     "execution_count": 66,
     "metadata": {},
     "output_type": "execute_result"
    }
   ],
   "source": [
    "region_family_profile"
   ]
  },
  {
   "cell_type": "code",
   "execution_count": 67,
   "id": "3cc7437c",
   "metadata": {},
   "outputs": [
    {
     "data": {
      "text/plain": [
       "Text(0.5, 0, 'Region')"
      ]
     },
     "execution_count": 67,
     "metadata": {},
     "output_type": "execute_result"
    },
    {
     "data": {
      "image/png": "[encoded data removed]",
      "text/plain": [
       "<Figure size 640x480 with 1 Axes>"
      ]
     },
     "metadata": {},
     "output_type": "display_data"
    }
   ],
   "source": [
    "region_family_profile_bar = region_family_profile.plot.bar(title ='Family Profile by region', color = sns.color_palette('Blues', 2))\n",
    "plt.xlabel('Region')"
   ]
  },
  {
   "cell_type": "code",
   "execution_count": 68,
   "id": "a4d53a12",
   "metadata": {},
   "outputs": [],
   "source": [
    "# Export  chart\n",
    "region_family_profile_bar.figure.savefig(os.path.join(path, '04 Analysis', 'Visualizations', 'Family_profile_region_bar.png'))"
   ]
  },
  {
   "cell_type": "code",
   "execution_count": 69,
   "id": "b7e3582f",
   "metadata": {},
   "outputs": [],
   "source": [
    "#crosstab between family profile and department\n",
    "depts_family_profile = pd.crosstab(df_all_merged['department_id'], df_all_merged['family_profile'], dropna = False)"
   ]
  },
  {
   "cell_type": "code",
   "execution_count": 70,
   "id": "5862f4d9",
   "metadata": {},
   "outputs": [],
   "source": [
    "depts_family_profile.to_clipboard()"
   ]
  },
  {
   "cell_type": "code",
   "execution_count": 71,
   "id": "c535048b",
   "metadata": {},
   "outputs": [
    {
     "data": {
      "text/html": [
       "<div>\n",
       "<style scoped>\n",
       "    .dataframe tbody tr th:only-of-type {\n",
       "        vertical-align: middle;\n",
       "    }\n",
       "\n",
       "    .dataframe tbody tr th {\n",
       "        vertical-align: top;\n",
       "    }\n",
       "\n",
       "    .dataframe thead th {\n",
       "        text-align: right;\n",
       "    }\n",
       "</style>\n",
       "<table border=\"1\" class=\"dataframe\">\n",
       "  <thead>\n",
       "    <tr style=\"text-align: right;\">\n",
       "      <th>family_profile</th>\n",
       "      <th>Family</th>\n",
       "      <th>Single Adult</th>\n",
       "    </tr>\n",
       "    <tr>\n",
       "      <th>department_id</th>\n",
       "      <th></th>\n",
       "      <th></th>\n",
       "    </tr>\n",
       "  </thead>\n",
       "  <tbody>\n",
       "    <tr>\n",
       "      <th>1</th>\n",
       "      <td>1677583</td>\n",
       "      <td>557160</td>\n",
       "    </tr>\n",
       "    <tr>\n",
       "      <th>2</th>\n",
       "      <td>27116</td>\n",
       "      <td>9175</td>\n",
       "    </tr>\n",
       "    <tr>\n",
       "      <th>3</th>\n",
       "      <td>878023</td>\n",
       "      <td>294405</td>\n",
       "    </tr>\n",
       "    <tr>\n",
       "      <th>4</th>\n",
       "      <td>7103846</td>\n",
       "      <td>2375445</td>\n",
       "    </tr>\n",
       "    <tr>\n",
       "      <th>5</th>\n",
       "      <td>114578</td>\n",
       "      <td>39118</td>\n",
       "    </tr>\n",
       "    <tr>\n",
       "      <th>6</th>\n",
       "      <td>201540</td>\n",
       "      <td>67713</td>\n",
       "    </tr>\n",
       "    <tr>\n",
       "      <th>7</th>\n",
       "      <td>2013681</td>\n",
       "      <td>674442</td>\n",
       "    </tr>\n",
       "    <tr>\n",
       "      <th>8</th>\n",
       "      <td>73133</td>\n",
       "      <td>24583</td>\n",
       "    </tr>\n",
       "    <tr>\n",
       "      <th>9</th>\n",
       "      <td>651365</td>\n",
       "      <td>215262</td>\n",
       "    </tr>\n",
       "    <tr>\n",
       "      <th>10</th>\n",
       "      <td>26295</td>\n",
       "      <td>8278</td>\n",
       "    </tr>\n",
       "    <tr>\n",
       "      <th>11</th>\n",
       "      <td>335566</td>\n",
       "      <td>112006</td>\n",
       "    </tr>\n",
       "    <tr>\n",
       "      <th>12</th>\n",
       "      <td>534843</td>\n",
       "      <td>174084</td>\n",
       "    </tr>\n",
       "    <tr>\n",
       "      <th>13</th>\n",
       "      <td>1408612</td>\n",
       "      <td>466757</td>\n",
       "    </tr>\n",
       "    <tr>\n",
       "      <th>14</th>\n",
       "      <td>528456</td>\n",
       "      <td>174577</td>\n",
       "    </tr>\n",
       "    <tr>\n",
       "      <th>15</th>\n",
       "      <td>803220</td>\n",
       "      <td>264838</td>\n",
       "    </tr>\n",
       "    <tr>\n",
       "      <th>16</th>\n",
       "      <td>4049385</td>\n",
       "      <td>1349362</td>\n",
       "    </tr>\n",
       "    <tr>\n",
       "      <th>17</th>\n",
       "      <td>557893</td>\n",
       "      <td>180773</td>\n",
       "    </tr>\n",
       "    <tr>\n",
       "      <th>18</th>\n",
       "      <td>317308</td>\n",
       "      <td>106494</td>\n",
       "    </tr>\n",
       "    <tr>\n",
       "      <th>19</th>\n",
       "      <td>2166752</td>\n",
       "      <td>720798</td>\n",
       "    </tr>\n",
       "    <tr>\n",
       "      <th>20</th>\n",
       "      <td>786104</td>\n",
       "      <td>265145</td>\n",
       "    </tr>\n",
       "    <tr>\n",
       "      <th>21</th>\n",
       "      <td>52057</td>\n",
       "      <td>17088</td>\n",
       "    </tr>\n",
       "  </tbody>\n",
       "</table>\n",
       "</div>"
      ],
      "text/plain": [
       "family_profile   Family  Single Adult\n",
       "department_id                        \n",
       "1               1677583        557160\n",
       "2                 27116          9175\n",
       "3                878023        294405\n",
       "4               7103846       2375445\n",
       "5                114578         39118\n",
       "6                201540         67713\n",
       "7               2013681        674442\n",
       "8                 73133         24583\n",
       "9                651365        215262\n",
       "10                26295          8278\n",
       "11               335566        112006\n",
       "12               534843        174084\n",
       "13              1408612        466757\n",
       "14               528456        174577\n",
       "15               803220        264838\n",
       "16              4049385       1349362\n",
       "17               557893        180773\n",
       "18               317308        106494\n",
       "19              2166752        720798\n",
       "20               786104        265145\n",
       "21                52057         17088"
      ]
     },
     "execution_count": 71,
     "metadata": {},
     "output_type": "execute_result"
    }
   ],
   "source": [
    "depts_family_profile"
   ]
  },
  {
   "cell_type": "code",
   "execution_count": 72,
   "id": "434a73c9",
   "metadata": {},
   "outputs": [
    {
     "data": {
      "image/png": "[encoded data removed]",
      "text/plain": [
       "<Figure size 640x480 with 1 Axes>"
      ]
     },
     "metadata": {},
     "output_type": "display_data"
    }
   ],
   "source": [
    "depts_family_profile_bar = depts_family_profile.plot(kind = 'bar', stacked = True, title = 'Family profile by Department', color = sns.color_palette('Blues', 2), xlabel = '')"
   ]
  },
  {
   "cell_type": "code",
   "execution_count": 73,
   "id": "b0ca61f0",
   "metadata": {},
   "outputs": [],
   "source": [
    "# Export  chart\n",
    "depts_family_profile_bar.figure.savefig(os.path.join(path, '04 Analysis', 'Visualizations', 'Family_profile_department_bar.png'))"
   ]
  },
  {
   "cell_type": "code",
   "execution_count": 74,
   "id": "5f6af443",
   "metadata": {},
   "outputs": [],
   "source": [
    "#crosstab of day of the week orders and region\n",
    "region_day_of_week = pd.crosstab(df_all_merged['region'], df_all_merged['orders_day_of_week'], dropna = False)"
   ]
  },
  {
   "cell_type": "code",
   "execution_count": 75,
   "id": "06589e8a",
   "metadata": {},
   "outputs": [
    {
     "data": {
      "text/plain": [
       "Text(0, 0.5, 'Region')"
      ]
     },
     "execution_count": 75,
     "metadata": {},
     "output_type": "execute_result"
    },
    {
     "data": {
      "image/png": "[encoded data removed]",
      "text/plain": [
       "<Figure size 640x480 with 1 Axes>"
      ]
     },
     "metadata": {},
     "output_type": "display_data"
    }
   ],
   "source": [
    "region_dow_bar = region_day_of_week.plot(kind = 'barh', stacked = True, title = 'Day of week orders by Region',color = sns.color_palette('Blues', 7))\n",
    "plt.legend(loc='lower right')\n",
    "plt.ylabel('Region')"
   ]
  },
  {
   "cell_type": "code",
   "execution_count": 76,
   "id": "98670ac6",
   "metadata": {},
   "outputs": [],
   "source": [
    "# Export bar chart\n",
    "region_dow_bar.figure.savefig(os.path.join(path, '04 Analysis', 'Visualizations', 'Orders_by_dow_region_bar.png'))"
   ]
  },
  {
   "cell_type": "code",
   "execution_count": 77,
   "id": "9cf187eb",
   "metadata": {},
   "outputs": [],
   "source": [
    "#crosstab of day of the week orders and department\n",
    "dept_day_of_week = pd.crosstab(df_all_merged['department_id'], df_all_merged['orders_day_of_week'], dropna = False)"
   ]
  },
  {
   "cell_type": "code",
   "execution_count": 78,
   "id": "57f6f5f1",
   "metadata": {},
   "outputs": [
    {
     "data": {
      "text/plain": [
       "Text(0, 0.5, 'Region')"
      ]
     },
     "execution_count": 78,
     "metadata": {},
     "output_type": "execute_result"
    },
    {
     "data": {
      "image/png": "[encoded data removed]",
      "text/plain": [
       "<Figure size 640x480 with 1 Axes>"
      ]
     },
     "metadata": {},
     "output_type": "display_data"
    }
   ],
   "source": [
    "# Create bar chart\n",
    "dept_dow_bar = dept_day_of_week.plot(kind = 'barh', stacked = True, title = 'Day of week orders by Department',color = sns.color_palette('Blues', 7))\n",
    "plt.legend(loc='upper right')\n",
    "plt.ylabel('Region')"
   ]
  },
  {
   "cell_type": "code",
   "execution_count": 79,
   "id": "56a5cb14",
   "metadata": {},
   "outputs": [],
   "source": [
    "# Export bar chart\n",
    "dept_dow_bar.figure.savefig(os.path.join(path, '04 Analysis', 'Visualizations', 'Orders_by_dow_department_bar.png'))"
   ]
  },
  {
   "cell_type": "code",
   "execution_count": 80,
   "id": "dc9e1cae",
   "metadata": {},
   "outputs": [
    {
     "data": {
      "text/html": [
       "<div>\n",
       "<style scoped>\n",
       "    .dataframe tbody tr th:only-of-type {\n",
       "        vertical-align: middle;\n",
       "    }\n",
       "\n",
       "    .dataframe tbody tr th {\n",
       "        vertical-align: top;\n",
       "    }\n",
       "\n",
       "    .dataframe thead th {\n",
       "        text-align: right;\n",
       "    }\n",
       "</style>\n",
       "<table border=\"1\" class=\"dataframe\">\n",
       "  <thead>\n",
       "    <tr style=\"text-align: right;\">\n",
       "      <th></th>\n",
       "      <th>order_id</th>\n",
       "      <th>user_id</th>\n",
       "      <th>order_number</th>\n",
       "      <th>orders_day_of_week</th>\n",
       "      <th>order_hour_of_day</th>\n",
       "      <th>days_since_prior_order</th>\n",
       "      <th>product_id</th>\n",
       "      <th>add_to_cart_order</th>\n",
       "      <th>reordered</th>\n",
       "      <th>product_name</th>\n",
       "      <th>...</th>\n",
       "      <th>age</th>\n",
       "      <th>date_joined</th>\n",
       "      <th>number_of_dependants</th>\n",
       "      <th>family_status</th>\n",
       "      <th>income</th>\n",
       "      <th>region</th>\n",
       "      <th>activity_flag</th>\n",
       "      <th>age_profile</th>\n",
       "      <th>income_profile</th>\n",
       "      <th>family_profile</th>\n",
       "    </tr>\n",
       "  </thead>\n",
       "  <tbody>\n",
       "    <tr>\n",
       "      <th>0</th>\n",
       "      <td>2539329</td>\n",
       "      <td>1</td>\n",
       "      <td>1</td>\n",
       "      <td>2</td>\n",
       "      <td>8</td>\n",
       "      <td>NaN</td>\n",
       "      <td>196</td>\n",
       "      <td>1</td>\n",
       "      <td>0</td>\n",
       "      <td>Soda</td>\n",
       "      <td>...</td>\n",
       "      <td>31</td>\n",
       "      <td>2/17/2019</td>\n",
       "      <td>3</td>\n",
       "      <td>married</td>\n",
       "      <td>40423</td>\n",
       "      <td>South</td>\n",
       "      <td>High activity</td>\n",
       "      <td>18-40</td>\n",
       "      <td>&lt;=50k</td>\n",
       "      <td>Family</td>\n",
       "    </tr>\n",
       "    <tr>\n",
       "      <th>1</th>\n",
       "      <td>2398795</td>\n",
       "      <td>1</td>\n",
       "      <td>2</td>\n",
       "      <td>3</td>\n",
       "      <td>7</td>\n",
       "      <td>15.0</td>\n",
       "      <td>196</td>\n",
       "      <td>1</td>\n",
       "      <td>1</td>\n",
       "      <td>Soda</td>\n",
       "      <td>...</td>\n",
       "      <td>31</td>\n",
       "      <td>2/17/2019</td>\n",
       "      <td>3</td>\n",
       "      <td>married</td>\n",
       "      <td>40423</td>\n",
       "      <td>South</td>\n",
       "      <td>High activity</td>\n",
       "      <td>18-40</td>\n",
       "      <td>&lt;=50k</td>\n",
       "      <td>Family</td>\n",
       "    </tr>\n",
       "    <tr>\n",
       "      <th>2</th>\n",
       "      <td>473747</td>\n",
       "      <td>1</td>\n",
       "      <td>3</td>\n",
       "      <td>3</td>\n",
       "      <td>12</td>\n",
       "      <td>21.0</td>\n",
       "      <td>196</td>\n",
       "      <td>1</td>\n",
       "      <td>1</td>\n",
       "      <td>Soda</td>\n",
       "      <td>...</td>\n",
       "      <td>31</td>\n",
       "      <td>2/17/2019</td>\n",
       "      <td>3</td>\n",
       "      <td>married</td>\n",
       "      <td>40423</td>\n",
       "      <td>South</td>\n",
       "      <td>High activity</td>\n",
       "      <td>18-40</td>\n",
       "      <td>&lt;=50k</td>\n",
       "      <td>Family</td>\n",
       "    </tr>\n",
       "    <tr>\n",
       "      <th>3</th>\n",
       "      <td>2254736</td>\n",
       "      <td>1</td>\n",
       "      <td>4</td>\n",
       "      <td>4</td>\n",
       "      <td>7</td>\n",
       "      <td>29.0</td>\n",
       "      <td>196</td>\n",
       "      <td>1</td>\n",
       "      <td>1</td>\n",
       "      <td>Soda</td>\n",
       "      <td>...</td>\n",
       "      <td>31</td>\n",
       "      <td>2/17/2019</td>\n",
       "      <td>3</td>\n",
       "      <td>married</td>\n",
       "      <td>40423</td>\n",
       "      <td>South</td>\n",
       "      <td>High activity</td>\n",
       "      <td>18-40</td>\n",
       "      <td>&lt;=50k</td>\n",
       "      <td>Family</td>\n",
       "    </tr>\n",
       "    <tr>\n",
       "      <th>4</th>\n",
       "      <td>431534</td>\n",
       "      <td>1</td>\n",
       "      <td>5</td>\n",
       "      <td>4</td>\n",
       "      <td>15</td>\n",
       "      <td>28.0</td>\n",
       "      <td>196</td>\n",
       "      <td>1</td>\n",
       "      <td>1</td>\n",
       "      <td>Soda</td>\n",
       "      <td>...</td>\n",
       "      <td>31</td>\n",
       "      <td>2/17/2019</td>\n",
       "      <td>3</td>\n",
       "      <td>married</td>\n",
       "      <td>40423</td>\n",
       "      <td>South</td>\n",
       "      <td>High activity</td>\n",
       "      <td>18-40</td>\n",
       "      <td>&lt;=50k</td>\n",
       "      <td>Family</td>\n",
       "    </tr>\n",
       "  </tbody>\n",
       "</table>\n",
       "<p>5 rows × 36 columns</p>\n",
       "</div>"
      ],
      "text/plain": [
       "   order_id  user_id  order_number  orders_day_of_week  order_hour_of_day  \\\n",
       "0   2539329        1             1                   2                  8   \n",
       "1   2398795        1             2                   3                  7   \n",
       "2    473747        1             3                   3                 12   \n",
       "3   2254736        1             4                   4                  7   \n",
       "4    431534        1             5                   4                 15   \n",
       "\n",
       "   days_since_prior_order  product_id  add_to_cart_order  reordered  \\\n",
       "0                     NaN         196                  1          0   \n",
       "1                    15.0         196                  1          1   \n",
       "2                    21.0         196                  1          1   \n",
       "3                    29.0         196                  1          1   \n",
       "4                    28.0         196                  1          1   \n",
       "\n",
       "  product_name  ...  age  date_joined  number_of_dependants family_status  \\\n",
       "0         Soda  ...   31    2/17/2019                     3       married   \n",
       "1         Soda  ...   31    2/17/2019                     3       married   \n",
       "2         Soda  ...   31    2/17/2019                     3       married   \n",
       "3         Soda  ...   31    2/17/2019                     3       married   \n",
       "4         Soda  ...   31    2/17/2019                     3       married   \n",
       "\n",
       "  income region  activity_flag age_profile  income_profile family_profile  \n",
       "0  40423  South  High activity       18-40           <=50k         Family  \n",
       "1  40423  South  High activity       18-40           <=50k         Family  \n",
       "2  40423  South  High activity       18-40           <=50k         Family  \n",
       "3  40423  South  High activity       18-40           <=50k         Family  \n",
       "4  40423  South  High activity       18-40           <=50k         Family  \n",
       "\n",
       "[5 rows x 36 columns]"
      ]
     },
     "execution_count": 80,
     "metadata": {},
     "output_type": "execute_result"
    }
   ],
   "source": [
    "# Check output of final data set\n",
    "df_all_merged.head(5)"
   ]
  },
  {
   "cell_type": "code",
   "execution_count": 81,
   "id": "5ee5547b",
   "metadata": {},
   "outputs": [
    {
     "data": {
      "text/plain": [
       "(32404859, 36)"
      ]
     },
     "execution_count": 81,
     "metadata": {},
     "output_type": "execute_result"
    }
   ],
   "source": [
    "df_all_merged.shape"
   ]
  },
  {
   "cell_type": "code",
   "execution_count": 82,
   "id": "ab655c6e",
   "metadata": {},
   "outputs": [
    {
     "data": {
      "text/plain": [
       "Index(['order_id', 'user_id', 'order_number', 'orders_day_of_week',\n",
       "       'order_hour_of_day', 'days_since_prior_order', 'product_id',\n",
       "       'add_to_cart_order', 'reordered', 'product_name', 'aisle_id',\n",
       "       'department_id', 'prices', '_merge', 'price_range_loc', 'busiest_day',\n",
       "       'busiest_days', 'busiest_period_of_day', 'max_order', 'loyalty_flag',\n",
       "       'avg_price', 'spending_flag', 'median_freq', 'order_freq_flag',\n",
       "       'gender', 'state', 'age', 'date_joined', 'number_of_dependants',\n",
       "       'family_status', 'income', 'region', 'activity_flag', 'age_profile',\n",
       "       'income_profile', 'family_profile'],\n",
       "      dtype='object')"
      ]
     },
     "execution_count": 82,
     "metadata": {},
     "output_type": "execute_result"
    }
   ],
   "source": [
    "df_all_merged.columns"
   ]
  },
  {
   "cell_type": "markdown",
   "id": "bbb40912",
   "metadata": {},
   "source": [
    "## 9. Exporting Final data set"
   ]
  },
  {
   "cell_type": "code",
   "execution_count": 83,
   "id": "bf404bd4",
   "metadata": {},
   "outputs": [],
   "source": [
    "# Export new dataframe to pkl\n",
    "df_all_merged.to_pickle(os.path.join(path,'02 Data','Prepared Data', 'orders_products_customers_final.pkl'))"
   ]
  }
 ],
 "metadata": {
  "kernelspec": {
   "display_name": "Python 3 (ipykernel)",
   "language": "python",
   "name": "python3"
  },
  "language_info": {
   "codemirror_mode": {
    "name": "ipython",
    "version": 3
   },
   "file_extension": ".py",
   "mimetype": "text/x-python",
   "name": "python",
   "nbconvert_exporter": "python",
   "pygments_lexer": "ipython3",
   "version": "3.10.9"
  }
 },
 "nbformat": 4,
 "nbformat_minor": 5
}

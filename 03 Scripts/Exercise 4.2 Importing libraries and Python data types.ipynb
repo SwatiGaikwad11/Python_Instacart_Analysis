{
 "cells": [
  {
   "cell_type": "markdown",
   "id": "133effcb",
   "metadata": {},
   "source": [
    "# 01. Importing libraries"
   ]
  },
  {
   "cell_type": "code",
   "execution_count": 1,
   "id": "783c9b7e",
   "metadata": {},
   "outputs": [],
   "source": [
    "# Import libraries\n",
    "import pandas as pd\n",
    "import numpy as np\n",
    "import os"
   ]
  },
  {
   "cell_type": "markdown",
   "id": "3803b848",
   "metadata": {},
   "source": [
    "# 02. Data Type"
   ]
  },
  {
   "cell_type": "code",
   "execution_count": 2,
   "id": "47b32aba",
   "metadata": {},
   "outputs": [],
   "source": [
    "x=2"
   ]
  },
  {
   "cell_type": "code",
   "execution_count": 3,
   "id": "7adbda4d",
   "metadata": {},
   "outputs": [],
   "source": [
    "y=50"
   ]
  },
  {
   "cell_type": "code",
   "execution_count": 4,
   "id": "dd4d5617",
   "metadata": {},
   "outputs": [
    {
     "data": {
      "text/plain": [
       "100"
      ]
     },
     "execution_count": 4,
     "metadata": {},
     "output_type": "execute_result"
    }
   ],
   "source": [
    "x*y"
   ]
  },
  {
   "cell_type": "code",
   "execution_count": 5,
   "id": "8e22f921",
   "metadata": {},
   "outputs": [],
   "source": [
    "z=48"
   ]
  },
  {
   "cell_type": "code",
   "execution_count": 6,
   "id": "143dee37",
   "metadata": {},
   "outputs": [
    {
     "data": {
      "text/plain": [
       "100"
      ]
     },
     "execution_count": 6,
     "metadata": {},
     "output_type": "execute_result"
    }
   ],
   "source": [
    "x+y+z"
   ]
  },
  {
   "cell_type": "code",
   "execution_count": 1,
   "id": "d27b087c",
   "metadata": {},
   "outputs": [],
   "source": [
    "a=6.99"
   ]
  },
  {
   "cell_type": "code",
   "execution_count": 2,
   "id": "66dc791f",
   "metadata": {},
   "outputs": [],
   "source": [
    "b=3.33\n"
   ]
  },
  {
   "cell_type": "code",
   "execution_count": 3,
   "id": "88afe2e5",
   "metadata": {},
   "outputs": [
    {
     "data": {
      "text/plain": [
       "2.099099099099099"
      ]
     },
     "execution_count": 3,
     "metadata": {},
     "output_type": "execute_result"
    }
   ],
   "source": [
    "a/b"
   ]
  },
  {
   "cell_type": "code",
   "execution_count": 4,
   "id": "93734bc0",
   "metadata": {},
   "outputs": [],
   "source": [
    "r='Never '"
   ]
  },
  {
   "cell_type": "code",
   "execution_count": 5,
   "id": "3c0628ed",
   "metadata": {},
   "outputs": [],
   "source": [
    "s='Stop '"
   ]
  },
  {
   "cell_type": "code",
   "execution_count": 6,
   "id": "e1ba1cfd",
   "metadata": {},
   "outputs": [],
   "source": [
    "t='Learning!'"
   ]
  },
  {
   "cell_type": "code",
   "execution_count": 7,
   "id": "43624276",
   "metadata": {},
   "outputs": [
    {
     "data": {
      "text/plain": [
       "'Never Stop Learning!'"
      ]
     },
     "execution_count": 7,
     "metadata": {},
     "output_type": "execute_result"
    }
   ],
   "source": [
    "r+s+t"
   ]
  },
  {
   "cell_type": "code",
   "execution_count": 8,
   "id": "710f1134",
   "metadata": {},
   "outputs": [],
   "source": [
    "u=' Life '"
   ]
  },
  {
   "cell_type": "code",
   "execution_count": 9,
   "id": "b1fc51ea",
   "metadata": {},
   "outputs": [],
   "source": [
    "v='is '"
   ]
  },
  {
   "cell_type": "code",
   "execution_count": 10,
   "id": "6002597f",
   "metadata": {},
   "outputs": [],
   "source": [
    "w='beautiful!'"
   ]
  },
  {
   "cell_type": "code",
   "execution_count": 11,
   "id": "2c606e40",
   "metadata": {},
   "outputs": [
    {
     "data": {
      "text/plain": [
       "' Life is beautiful!'"
      ]
     },
     "execution_count": 11,
     "metadata": {},
     "output_type": "execute_result"
    }
   ],
   "source": [
    "u+v+w"
   ]
  },
  {
   "cell_type": "code",
   "execution_count": 12,
   "id": "84f44cb9",
   "metadata": {},
   "outputs": [],
   "source": [
    "d='Horse '"
   ]
  },
  {
   "cell_type": "code",
   "execution_count": 13,
   "id": "3a403088",
   "metadata": {},
   "outputs": [
    {
     "data": {
      "text/plain": [
       "'Horse Horse Horse Horse Horse Horse Horse Horse Horse Horse Horse Horse Horse Horse Horse Horse Horse Horse Horse Horse Horse Horse Horse Horse Horse Horse Horse Horse Horse Horse Horse Horse Horse Horse Horse Horse Horse Horse Horse Horse Horse Horse Horse Horse Horse Horse Horse Horse Horse Horse Horse Horse Horse Horse Horse Horse Horse Horse Horse Horse Horse Horse Horse Horse Horse Horse Horse Horse Horse Horse Horse Horse Horse Horse Horse Horse Horse Horse Horse Horse Horse Horse Horse Horse Horse Horse Horse Horse Horse Horse Horse Horse Horse Horse Horse Horse Horse Horse Horse Horse '"
      ]
     },
     "execution_count": 13,
     "metadata": {},
     "output_type": "execute_result"
    }
   ],
   "source": [
    "d*100"
   ]
  }
 ],
 "metadata": {
  "kernelspec": {
   "display_name": "Python 3 (ipykernel)",
   "language": "python",
   "name": "python3"
  },
  "language_info": {
   "codemirror_mode": {
    "name": "ipython",
    "version": 3
   },
   "file_extension": ".py",
   "mimetype": "text/x-python",
   "name": "python",
   "nbconvert_exporter": "python",
   "pygments_lexer": "ipython3",
   "version": "3.10.9"
  }
 },
 "nbformat": 4,
 "nbformat_minor": 5
}
